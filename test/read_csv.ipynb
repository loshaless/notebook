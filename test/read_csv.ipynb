{
 "cells": [
  {
   "cell_type": "code",
   "id": "initial_id",
   "metadata": {
    "collapsed": true,
    "ExecuteTime": {
     "end_time": "2025-02-01T09:09:18.533702Z",
     "start_time": "2025-02-01T09:09:18.500497Z"
    }
   },
   "source": [
    "import pandas as pd\n",
    "\n",
    "# Load the dataset\n",
    "df = pd.read_csv('io.csv')\n",
    "df['seq_id'] = pd.to_numeric(df['seq_id'], errors='coerce')\n",
    "test = df[df['interaction_id'] == 'qGKqAj']\n",
    "# test = df[df['interaction_id'] == 'DCPAOp']\n",
    "sorted_test = test.sort_values(by=['action', 'seq_id'])\n",
    "sorted_test['input']"
   ],
   "outputs": [
    {
     "data": {
      "text/plain": [
       "661    [{\"role\":\"Nasabah\",\"message\":\"selamat sore\",\"i...\n",
       "664    [{\"role\":\"Nasabah\",\"message\":\"selamat sore den...\n",
       "667    [{\"role\":\"Nasabah\",\"message\":\"selamat sore den...\n",
       "669    [{\"role\":\"Nasabah\",\"message\":\"selamat sore den...\n",
       "672    [{\"role\":\"Nasabah\",\"message\":\"selamat sore den...\n",
       "                             ...                        \n",
       "734    [{\"role\":\"Nasabah\",\"message\":\"selamat sore den...\n",
       "736    [{\"role\":\"Nasabah\",\"message\":\"selamat sore den...\n",
       "737    [{\"role\":\"Nasabah\",\"message\":\"selamat sore den...\n",
       "739    [{\"role\":\"Nasabah\",\"message\":\"selamat sore den...\n",
       "740    [{\"role\":\"Nasabah\",\"message\":\"selamat sore den...\n",
       "Name: input, Length: 80, dtype: object"
      ]
     },
     "execution_count": 9,
     "metadata": {},
     "output_type": "execute_result"
    }
   ],
   "execution_count": 9
  },
  {
   "metadata": {
    "ExecuteTime": {
     "end_time": "2025-01-23T04:08:56.206167Z",
     "start_time": "2025-01-23T04:08:56.196727Z"
    }
   },
   "cell_type": "code",
   "source": [
    "import json\n",
    "\n",
    "test = df.iloc[0][\"input\"]\n",
    "input_dict = json.loads(test)\n",
    "input_dict[0]"
   ],
   "id": "588ca2e6ab934f4b",
   "outputs": [
    {
     "data": {
      "text/plain": [
       "{'role': 'Nasabah', 'message': 'saya ingin menutup kartu kredit'}"
      ]
     },
     "execution_count": 28,
     "metadata": {},
     "output_type": "execute_result"
    }
   ],
   "execution_count": 28
  },
  {
   "metadata": {
    "ExecuteTime": {
     "end_time": "2025-01-23T04:08:56.997450Z",
     "start_time": "2025-01-23T04:08:56.992266Z"
    }
   },
   "cell_type": "code",
   "source": [
    "test = df.iloc[0][\"output\"]\n",
    "output_dict = json.loads(test)\n",
    "output_dict['summarizer']"
   ],
   "id": "5a50d8953bac921f",
   "outputs": [
    {
     "data": {
      "text/plain": [
       "'1. Data nasabah: Informasi tidak tersedia\\n2. Masalah 1: Penutupan kartu kredit\\n3. Solusi 1: Kartu kredit telah ditutup\\n4. Masalah 2: Sanggahan transaksi rekening\\n5. Solusi 2: Sanggahan transaksi rekening telah diproses'"
      ]
     },
     "execution_count": 29,
     "metadata": {},
     "output_type": "execute_result"
    }
   ],
   "execution_count": 29
  },
  {
   "metadata": {
    "ExecuteTime": {
     "end_time": "2025-01-23T02:15:35.069180Z",
     "start_time": "2025-01-23T02:15:35.002638Z"
    }
   },
   "cell_type": "code",
   "source": [
    "test = df.iloc[0][\"output\"]\n",
    "data_dict = json.loads(test)\n",
    "data_dict['working_instruction'] = json.loads(data_dict['working_instruction'])\n",
    "\n",
    "data_dict"
   ],
   "id": "5df27ff709cbb84e",
   "outputs": [
    {
     "ename": "KeyError",
     "evalue": "'working_instruction'",
     "output_type": "error",
     "traceback": [
      "\u001B[0;31m---------------------------------------------------------------------------\u001B[0m",
      "\u001B[0;31mKeyError\u001B[0m                                  Traceback (most recent call last)",
      "Cell \u001B[0;32mIn[7], line 3\u001B[0m\n\u001B[1;32m      1\u001B[0m test \u001B[38;5;241m=\u001B[39m df\u001B[38;5;241m.\u001B[39miloc[\u001B[38;5;241m0\u001B[39m][\u001B[38;5;124m\"\u001B[39m\u001B[38;5;124moutput\u001B[39m\u001B[38;5;124m\"\u001B[39m]\n\u001B[1;32m      2\u001B[0m data_dict \u001B[38;5;241m=\u001B[39m json\u001B[38;5;241m.\u001B[39mloads(test)\n\u001B[0;32m----> 3\u001B[0m data_dict[\u001B[38;5;124m'\u001B[39m\u001B[38;5;124mworking_instruction\u001B[39m\u001B[38;5;124m'\u001B[39m] \u001B[38;5;241m=\u001B[39m json\u001B[38;5;241m.\u001B[39mloads(\u001B[43mdata_dict\u001B[49m\u001B[43m[\u001B[49m\u001B[38;5;124;43m'\u001B[39;49m\u001B[38;5;124;43mworking_instruction\u001B[39;49m\u001B[38;5;124;43m'\u001B[39;49m\u001B[43m]\u001B[49m)\n\u001B[1;32m      5\u001B[0m data_dict\n",
      "\u001B[0;31mKeyError\u001B[0m: 'working_instruction'"
     ]
    }
   ],
   "execution_count": 7
  },
  {
   "metadata": {},
   "cell_type": "code",
   "outputs": [],
   "execution_count": null,
   "source": "",
   "id": "b3092631db1bd12"
  }
 ],
 "metadata": {
  "kernelspec": {
   "display_name": "Python 3",
   "language": "python",
   "name": "python3"
  },
  "language_info": {
   "codemirror_mode": {
    "name": "ipython",
    "version": 2
   },
   "file_extension": ".py",
   "mimetype": "text/x-python",
   "name": "python",
   "nbconvert_exporter": "python",
   "pygments_lexer": "ipython2",
   "version": "2.7.6"
  }
 },
 "nbformat": 4,
 "nbformat_minor": 5
}
