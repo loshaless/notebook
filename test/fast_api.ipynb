{
 "cells": [
  {
   "metadata": {
    "ExecuteTime": {
     "end_time": "2025-01-23T00:09:11.577838Z",
     "start_time": "2025-01-23T00:09:11.574512Z"
    }
   },
   "cell_type": "code",
   "source": [
    "def say_hi(name: str | None):\n",
    "    print(f\"Hey {name}!\")"
   ],
   "id": "e569119a179223f2",
   "outputs": [],
   "execution_count": 4
  },
  {
   "metadata": {
    "ExecuteTime": {
     "end_time": "2025-01-23T00:09:16.771437Z",
     "start_time": "2025-01-23T00:09:16.752637Z"
    }
   },
   "cell_type": "code",
   "source": "say_hi(\"John\")",
   "id": "b7451f3047269228",
   "outputs": [
    {
     "ename": "TypeError",
     "evalue": "say_hi() missing 1 required positional argument: 'name'",
     "output_type": "error",
     "traceback": [
      "\u001B[0;31m---------------------------------------------------------------------------\u001B[0m",
      "\u001B[0;31mTypeError\u001B[0m                                 Traceback (most recent call last)",
      "Cell \u001B[0;32mIn[6], line 1\u001B[0m\n\u001B[0;32m----> 1\u001B[0m \u001B[43msay_hi\u001B[49m\u001B[43m(\u001B[49m\u001B[43m)\u001B[49m\n",
      "\u001B[0;31mTypeError\u001B[0m: say_hi() missing 1 required positional argument: 'name'"
     ]
    }
   ],
   "execution_count": 6
  },
  {
   "metadata": {},
   "cell_type": "code",
   "outputs": [],
   "execution_count": null,
   "source": "",
   "id": "9796066aafe4ec62"
  }
 ],
 "metadata": {
  "kernelspec": {
   "name": "python3",
   "language": "python",
   "display_name": "Python 3 (ipykernel)"
  }
 },
 "nbformat": 5,
 "nbformat_minor": 9
}
