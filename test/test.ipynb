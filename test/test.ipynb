{
 "cells": [
  {
   "metadata": {
    "ExecuteTime": {
     "end_time": "2025-02-03T09:19:27.918403Z",
     "start_time": "2025-02-03T09:19:26.512593Z"
    }
   },
   "cell_type": "code",
   "source": [
    "import pandas as pd\n",
    "from google.cloud import bigquery, storage\n",
    "import requests\n",
    "import json\n",
    "from collections import defaultdict\n",
    "import csv"
   ],
   "id": "5247d7253c2a81be",
   "outputs": [],
   "execution_count": 1
  },
  {
   "metadata": {
    "ExecuteTime": {
     "end_time": "2025-02-03T09:20:13.528162Z",
     "start_time": "2025-02-03T09:20:13.394211Z"
    }
   },
   "cell_type": "code",
   "source": [
    "class Dog:\n",
    "    @staticmethod\n",
    "    def speak(self):\n",
    "        return \"Woof!\"\n",
    "\n",
    "class Cat:\n",
    "    @staticmethod\n",
    "    def speak(self):\n",
    "        return \"Meow!\"\n",
    "\n",
    "class Human:\n",
    "    @staticmethod\n",
    "    def talk(self):\n",
    "        return \"Hello!\"\n",
    "\n",
    "def animal_sound(animal):\n",
    "    print(animal.speak())\n",
    "\n",
    "animal_sound(Dog())  # Output: Woof!\n",
    "animal_sound(Cat())  # Output: Meow!\n",
    "animal_sound(Human())  # Output: AttributeError: 'Human' object has no attribute 'speak'"
   ],
   "id": "98a03d010050cfcd",
   "outputs": [
    {
     "ename": "TypeError",
     "evalue": "Dog.speak() missing 1 required positional argument: 'self'",
     "output_type": "error",
     "traceback": [
      "\u001B[0;31m---------------------------------------------------------------------------\u001B[0m",
      "\u001B[0;31mTypeError\u001B[0m                                 Traceback (most recent call last)",
      "Cell \u001B[0;32mIn[3], line 19\u001B[0m\n\u001B[1;32m     16\u001B[0m \u001B[38;5;28;01mdef\u001B[39;00m\u001B[38;5;250m \u001B[39m\u001B[38;5;21manimal_sound\u001B[39m(animal):\n\u001B[1;32m     17\u001B[0m     \u001B[38;5;28mprint\u001B[39m(animal\u001B[38;5;241m.\u001B[39mspeak())\n\u001B[0;32m---> 19\u001B[0m \u001B[43manimal_sound\u001B[49m\u001B[43m(\u001B[49m\u001B[43mDog\u001B[49m\u001B[43m(\u001B[49m\u001B[43m)\u001B[49m\u001B[43m)\u001B[49m  \u001B[38;5;66;03m# Output: Woof!\u001B[39;00m\n\u001B[1;32m     20\u001B[0m animal_sound(Cat())  \u001B[38;5;66;03m# Output: Meow!\u001B[39;00m\n\u001B[1;32m     21\u001B[0m animal_sound(Human())  \u001B[38;5;66;03m# Output: AttributeError: 'Human' object has no attribute 'speak'\u001B[39;00m\n",
      "Cell \u001B[0;32mIn[3], line 17\u001B[0m, in \u001B[0;36manimal_sound\u001B[0;34m(animal)\u001B[0m\n\u001B[1;32m     16\u001B[0m \u001B[38;5;28;01mdef\u001B[39;00m\u001B[38;5;250m \u001B[39m\u001B[38;5;21manimal_sound\u001B[39m(animal):\n\u001B[0;32m---> 17\u001B[0m     \u001B[38;5;28mprint\u001B[39m(\u001B[43manimal\u001B[49m\u001B[38;5;241;43m.\u001B[39;49m\u001B[43mspeak\u001B[49m\u001B[43m(\u001B[49m\u001B[43m)\u001B[49m)\n",
      "\u001B[0;31mTypeError\u001B[0m: Dog.speak() missing 1 required positional argument: 'self'"
     ]
    }
   ],
   "execution_count": 3
  },
  {
   "metadata": {
    "ExecuteTime": {
     "end_time": "2025-01-16T02:10:58.284945Z",
     "start_time": "2025-01-16T02:10:58.282034Z"
    }
   },
   "cell_type": "code",
   "source": "",
   "id": "eeaab835c685c1",
   "outputs": [],
   "execution_count": null
  },
  {
   "metadata": {},
   "cell_type": "code",
   "outputs": [],
   "execution_count": null,
   "source": "",
   "id": "855e8935a1f60246"
  }
 ],
 "metadata": {
  "kernelspec": {
   "name": "python3",
   "language": "python",
   "display_name": "Python 3 (ipykernel)"
  }
 },
 "nbformat": 5,
 "nbformat_minor": 9
}
