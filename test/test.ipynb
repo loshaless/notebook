{
 "cells": [
  {
   "metadata": {
    "ExecuteTime": {
     "end_time": "2024-12-30T13:34:34.244574Z",
     "start_time": "2024-12-30T13:34:29.591046Z"
    }
   },
   "cell_type": "code",
   "source": [
    "import base64\n",
    "import vertexai\n",
    "from vertexai.generative_models import GenerativeModel, SafetySetting, Part\n",
    "\n",
    "\n",
    "def multiturn_generate_content():\n",
    "    vertexai.init(project=\"genai-avengers\", location=\"asia-southeast1\")\n",
    "    model = GenerativeModel(\n",
    "        \"gemini-1.5-pro-002\",\n",
    "    )\n",
    "    chat = model.start_chat()\n",
    "    print(chat.send_message(\n",
    "        [\"\"\"whar is king?\"\"\"],\n",
    "        generation_config=generation_config,\n",
    "        safety_settings=safety_settings\n",
    "    ))\n",
    "\n",
    "\n",
    "generation_config = {\n",
    "    \"max_output_tokens\": 8192,\n",
    "    \"temperature\": 1,\n",
    "    \"top_p\": 0.95,\n",
    "}\n",
    "\n",
    "\n",
    "safety_settings = [\n",
    "    SafetySetting(\n",
    "        category=SafetySetting.HarmCategory.HARM_CATEGORY_HATE_SPEECH,\n",
    "        threshold=SafetySetting.HarmBlockThreshold.OFF\n",
    "    ),\n",
    "    SafetySetting(\n",
    "        category=SafetySetting.HarmCategory.HARM_CATEGORY_DANGEROUS_CONTENT,\n",
    "        threshold=SafetySetting.HarmBlockThreshold.OFF\n",
    "    ),\n",
    "    SafetySetting(\n",
    "        category=SafetySetting.HarmCategory.HARM_CATEGORY_SEXUALLY_EXPLICIT,\n",
    "        threshold=SafetySetting.HarmBlockThreshold.OFF\n",
    "    ),\n",
    "    SafetySetting(\n",
    "        category=SafetySetting.HarmCategory.HARM_CATEGORY_HARASSMENT,\n",
    "        threshold=SafetySetting.HarmBlockThreshold.OFF\n",
    "    ),\n",
    "]\n",
    "\n",
    "multiturn_generate_content()"
   ],
   "id": "f5b76ad92502a489",
   "outputs": [
    {
     "name": "stdout",
     "output_type": "stream",
     "text": [
      "candidates {\n",
      "  content {\n",
      "    role: \"model\"\n",
      "    parts {\n",
      "      text: \"\\\"King\\\" can refer to several things:\\n\\n* **A male monarch:**  The supreme ruler of a kingdom or nation.  This is the most common meaning.\\n* **A playing card:**  In a standard deck of cards, the King is a high-ranking card, above the Queen and Jack.\\n* **A chess piece:** The most important piece in the game of chess.  Losing your king means losing the game.\\n* **A dominant or important thing:**  Used metaphorically, like \\\"the king of the jungle\\\" (lion) or \\\"the king of rock and roll\\\" (Elvis Presley).  This refers to something dominant in its field.\\n* **A size of bed:** Larger than a queen-sized bed.\\n* **Part of a name or title:**  For example, Martin Luther King Jr.\\n\\nWhich meaning are you interested in?\\n\"\n",
      "    }\n",
      "  }\n",
      "  finish_reason: STOP\n",
      "  avg_logprobs: -0.16954474396758026\n",
      "}\n",
      "usage_metadata {\n",
      "  prompt_token_count: 5\n",
      "  candidates_token_count: 182\n",
      "  total_token_count: 187\n",
      "}\n",
      "model_version: \"gemini-1.5-pro-002\"\n",
      "\n"
     ]
    }
   ],
   "execution_count": 3
  },
  {
   "metadata": {},
   "cell_type": "code",
   "outputs": [],
   "execution_count": null,
   "source": "",
   "id": "9a9189a4bf3560fd"
  }
 ],
 "metadata": {
  "kernelspec": {
   "name": "python3",
   "language": "python",
   "display_name": "Python 3 (ipykernel)"
  }
 },
 "nbformat": 5,
 "nbformat_minor": 9
}
