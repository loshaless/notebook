{
 "cells": [
  {
   "metadata": {
    "ExecuteTime": {
     "end_time": "2025-01-02T06:22:25.794485Z",
     "start_time": "2025-01-02T06:22:25.787896Z"
    }
   },
   "cell_type": "code",
   "source": [
    "import pandas as pd\n",
    "import os\n",
    "import dotenv\n",
    "\n",
    "dotenv.load_dotenv()\n",
    "BASE_DIR = os.getcwd()"
   ],
   "id": "dd12ba37cffc4dc0",
   "outputs": [],
   "execution_count": 18
  },
  {
   "metadata": {},
   "cell_type": "markdown",
   "source": "# Import Excel",
   "id": "80131c1287e0dbdb"
  },
  {
   "metadata": {
    "ExecuteTime": {
     "end_time": "2025-01-02T06:22:25.862770Z",
     "start_time": "2025-01-02T06:22:25.811505Z"
    }
   },
   "cell_type": "code",
   "source": [
    "excel_path = \"disposition_code_ref_table.xlsx\"\n",
    "\n",
    "df = pd.read_excel(os.path.join(BASE_DIR, excel_path))\n",
    "df.drop(columns=[\"Konkatenasi_Layer123\"], inplace=True)\n",
    "df"
   ],
   "id": "4b46ff3adaeebf9b",
   "outputs": [
    {
     "data": {
      "text/plain": [
       "                          Layer 1     Layer 2  \\\n",
       "0     Complain (General Customer)  Branchless   \n",
       "1     Complain (General Customer)  Branchless   \n",
       "2     Complain (General Customer)  Branchless   \n",
       "3     Complain (General Customer)  Branchless   \n",
       "4     Complain (General Customer)  Branchless   \n",
       "...                           ...         ...   \n",
       "1163                        Sales         KTA   \n",
       "1164                        Sales         KTA   \n",
       "1165                    Eskalasi    Eskalasi    \n",
       "1166                    Eskalasi    Eskalasi    \n",
       "1167                    Eskalasi    Eskalasi    \n",
       "\n",
       "                                Layer 3  \n",
       "0     BLB: ATM Barang Jatuh Di Area ATM  \n",
       "1                  BLB: ATM Gagal Tarik  \n",
       "2              BLB: ATM Gagal Transaksi  \n",
       "3     BLB: ATM Jumlah Uang Tidak Sesuai  \n",
       "4      BLB: ATM Kebersihan/ Kelengkapan  \n",
       "...                                 ...  \n",
       "1163   KTA: Sales Done CC KTP Non Leads  \n",
       "1164            KTA: Sales Unidentified  \n",
       "1165                  Kontak  VDN Staff  \n",
       "1166                     Kontak POH/SPV  \n",
       "1167               Kontak Other Places   \n",
       "\n",
       "[1168 rows x 3 columns]"
      ],
      "text/html": [
       "<div>\n",
       "<style scoped>\n",
       "    .dataframe tbody tr th:only-of-type {\n",
       "        vertical-align: middle;\n",
       "    }\n",
       "\n",
       "    .dataframe tbody tr th {\n",
       "        vertical-align: top;\n",
       "    }\n",
       "\n",
       "    .dataframe thead th {\n",
       "        text-align: right;\n",
       "    }\n",
       "</style>\n",
       "<table border=\"1\" class=\"dataframe\">\n",
       "  <thead>\n",
       "    <tr style=\"text-align: right;\">\n",
       "      <th></th>\n",
       "      <th>Layer 1</th>\n",
       "      <th>Layer 2</th>\n",
       "      <th>Layer 3</th>\n",
       "    </tr>\n",
       "  </thead>\n",
       "  <tbody>\n",
       "    <tr>\n",
       "      <th>0</th>\n",
       "      <td>Complain (General Customer)</td>\n",
       "      <td>Branchless</td>\n",
       "      <td>BLB: ATM Barang Jatuh Di Area ATM</td>\n",
       "    </tr>\n",
       "    <tr>\n",
       "      <th>1</th>\n",
       "      <td>Complain (General Customer)</td>\n",
       "      <td>Branchless</td>\n",
       "      <td>BLB: ATM Gagal Tarik</td>\n",
       "    </tr>\n",
       "    <tr>\n",
       "      <th>2</th>\n",
       "      <td>Complain (General Customer)</td>\n",
       "      <td>Branchless</td>\n",
       "      <td>BLB: ATM Gagal Transaksi</td>\n",
       "    </tr>\n",
       "    <tr>\n",
       "      <th>3</th>\n",
       "      <td>Complain (General Customer)</td>\n",
       "      <td>Branchless</td>\n",
       "      <td>BLB: ATM Jumlah Uang Tidak Sesuai</td>\n",
       "    </tr>\n",
       "    <tr>\n",
       "      <th>4</th>\n",
       "      <td>Complain (General Customer)</td>\n",
       "      <td>Branchless</td>\n",
       "      <td>BLB: ATM Kebersihan/ Kelengkapan</td>\n",
       "    </tr>\n",
       "    <tr>\n",
       "      <th>...</th>\n",
       "      <td>...</td>\n",
       "      <td>...</td>\n",
       "      <td>...</td>\n",
       "    </tr>\n",
       "    <tr>\n",
       "      <th>1163</th>\n",
       "      <td>Sales</td>\n",
       "      <td>KTA</td>\n",
       "      <td>KTA: Sales Done CC KTP Non Leads</td>\n",
       "    </tr>\n",
       "    <tr>\n",
       "      <th>1164</th>\n",
       "      <td>Sales</td>\n",
       "      <td>KTA</td>\n",
       "      <td>KTA: Sales Unidentified</td>\n",
       "    </tr>\n",
       "    <tr>\n",
       "      <th>1165</th>\n",
       "      <td>Eskalasi</td>\n",
       "      <td>Eskalasi</td>\n",
       "      <td>Kontak  VDN Staff</td>\n",
       "    </tr>\n",
       "    <tr>\n",
       "      <th>1166</th>\n",
       "      <td>Eskalasi</td>\n",
       "      <td>Eskalasi</td>\n",
       "      <td>Kontak POH/SPV</td>\n",
       "    </tr>\n",
       "    <tr>\n",
       "      <th>1167</th>\n",
       "      <td>Eskalasi</td>\n",
       "      <td>Eskalasi</td>\n",
       "      <td>Kontak Other Places</td>\n",
       "    </tr>\n",
       "  </tbody>\n",
       "</table>\n",
       "<p>1168 rows × 3 columns</p>\n",
       "</div>"
      ]
     },
     "execution_count": 19,
     "metadata": {},
     "output_type": "execute_result"
    }
   ],
   "execution_count": 19
  },
  {
   "metadata": {},
   "cell_type": "markdown",
   "source": "## Get data By Product Name",
   "id": "a0dfcc7a198c323b"
  },
  {
   "metadata": {
    "ExecuteTime": {
     "end_time": "2025-01-02T06:22:25.885895Z",
     "start_time": "2025-01-02T06:22:25.882455Z"
    }
   },
   "cell_type": "code",
   "source": "df[\"Layer 3\"].value_counts()",
   "id": "694b7ba2ef82623d",
   "outputs": [
    {
     "data": {
      "text/plain": [
       "Layer 3\n",
       "Others                             7\n",
       "CC: Wrong Number                   7\n",
       "CC: Tidak Setuju                   7\n",
       "CC: Setuju                         7\n",
       "CC: Other Respond                  7\n",
       "                                  ..\n",
       "FND: Deposito Status               1\n",
       "FND: Tabungan Kendala Transaksi    1\n",
       "FND: Giro Status                   1\n",
       "FND: Tabungan Status               1\n",
       "Kontak Other Places                1\n",
       "Name: count, Length: 584, dtype: int64"
      ]
     },
     "execution_count": 20,
     "metadata": {},
     "output_type": "execute_result"
    }
   ],
   "execution_count": 20
  },
  {
   "metadata": {
    "ExecuteTime": {
     "end_time": "2025-01-02T06:22:25.946244Z",
     "start_time": "2025-01-02T06:22:25.939096Z"
    }
   },
   "cell_type": "code",
   "source": [
    "get_data_by_product = df.loc[\n",
    "    (df[\"Layer 2\"] == \"Credit Card\")\n",
    "    & (df[\"Layer 1\"].str.contains(\"Complain\"))\n",
    "]\n",
    "\n",
    "distinct_values = len(df[\"Layer 3\"].unique())"
   ],
   "id": "9ab173188f285427",
   "outputs": [],
   "execution_count": 21
  },
  {
   "metadata": {},
   "cell_type": "markdown",
   "source": "## Create JSON from action to product",
   "id": "27d5db673afc6ba3"
  },
  {
   "metadata": {
    "ExecuteTime": {
     "end_time": "2025-01-02T06:22:26.006941Z",
     "start_time": "2025-01-02T06:22:25.982241Z"
    }
   },
   "cell_type": "code",
   "source": [
    "import json\n",
    "\n",
    "action_to_product = {}\n",
    "\n",
    "for _, row in df.iterrows():\n",
    "    action, product, detail = row.iloc[0].strip(), row.iloc[1].strip(), row.iloc[2].strip()\n",
    "\n",
    "    if action not in action_to_product:\n",
    "        action_to_product[action] = []\n",
    "\n",
    "    if product not in action_to_product[action]:\n",
    "        action_to_product[action].append(product)\n",
    "\n",
    "action_to_product_json = json.dumps(action_to_product, indent=2)\n",
    "\n",
    "# create json file\n",
    "with open(\"action_to_product.json\", \"w\") as f:\n",
    "    f.write(action_to_product_json)"
   ],
   "id": "b9de2f933d895d7b",
   "outputs": [],
   "execution_count": 22
  },
  {
   "metadata": {},
   "cell_type": "markdown",
   "source": "## Create JSON from product to action",
   "id": "b81f6b4dc1149b6d"
  },
  {
   "metadata": {
    "ExecuteTime": {
     "end_time": "2025-01-02T06:22:26.046459Z",
     "start_time": "2025-01-02T06:22:26.022501Z"
    }
   },
   "cell_type": "code",
   "source": [
    "import json\n",
    "\n",
    "product_to_action = {}\n",
    "\n",
    "for _, row in df.iterrows():\n",
    "    action, product, detail = row.iloc[0].strip(), row.iloc[1].strip(), row.iloc[2].strip()\n",
    "\n",
    "    if product not in product_to_action:\n",
    "        product_to_action[product] = []\n",
    "\n",
    "    if action not in product_to_action[product]:\n",
    "        product_to_action[product].append(action)\n",
    "\n",
    "product_to_action_json = json.dumps(product_to_action, indent=2)\n",
    "\n",
    "# create json file\n",
    "with open(\"product_to_action.json\", \"w\") as f:\n",
    "    f.write(product_to_action_json)"
   ],
   "id": "8f774a8cd22abb03",
   "outputs": [],
   "execution_count": 23
  },
  {
   "metadata": {},
   "cell_type": "markdown",
   "source": "## Create JSON from (action_product) to detail",
   "id": "24903bf4b8c07b3b"
  },
  {
   "metadata": {
    "ExecuteTime": {
     "end_time": "2025-01-02T06:22:26.074825Z",
     "start_time": "2025-01-02T06:22:26.051955Z"
    }
   },
   "cell_type": "code",
   "source": [
    "action_product_to_detail = {}\n",
    "\n",
    "for _, row in df.iterrows():\n",
    "    action_product, detail =f\"{row.iloc[0].strip()}|{row.iloc[1].strip()}\", row.iloc[2].strip()\n",
    "\n",
    "    if action_product not in action_product_to_detail:\n",
    "        action_product_to_detail[action_product] = []\n",
    "\n",
    "    if detail not in action_product_to_detail[action_product]:\n",
    "        action_product_to_detail[action_product].append(detail)\n",
    "\n",
    "result = json.dumps(action_product_to_detail, indent=2)\n",
    "\n",
    "# create json file\n",
    "with open(\"action_product_to_detail.json\", \"w\") as f:\n",
    "    f.write(result)"
   ],
   "id": "1c12cd580c13f0e8",
   "outputs": [],
   "execution_count": 24
  },
  {
   "metadata": {},
   "cell_type": "markdown",
   "source": "# Create Excell from Ref Table Cleaned",
   "id": "547b414072f80531"
  },
  {
   "metadata": {
    "ExecuteTime": {
     "end_time": "2025-01-02T06:22:26.132964Z",
     "start_time": "2025-01-02T06:22:26.080926Z"
    }
   },
   "cell_type": "code",
   "source": [
    "df[\"Konkatenasi_Layer123\"] = df[\"Layer 1\"] + \"|\" + df[\"Layer 2\"] + \"|\" + df[\"Layer 3\"]\n",
    "\n",
    "df.to_excel(\"disposition_code_ref_table_cleaned.xlsx\", index=False)"
   ],
   "id": "b66dbd4c650c0351",
   "outputs": [],
   "execution_count": 25
  },
  {
   "metadata": {},
   "cell_type": "markdown",
   "source": "# READ JSON FILE",
   "id": "5d9b19a2c1a5d448"
  },
  {
   "metadata": {
    "ExecuteTime": {
     "end_time": "2025-01-02T06:22:26.141824Z",
     "start_time": "2025-01-02T06:22:26.139210Z"
    }
   },
   "cell_type": "code",
   "source": [
    "# load json file\n",
    "with open('action_to_product.json', 'r') as f:\n",
    "    data = json.load(f)\n",
    "\n",
    "df = pd.DataFrame(data.items(), columns=[\"Action\", \"Product\"])"
   ],
   "id": "16fe987ae5014c7b",
   "outputs": [],
   "execution_count": 26
  },
  {
   "metadata": {
    "ExecuteTime": {
     "end_time": "2025-01-02T06:22:26.155620Z",
     "start_time": "2025-01-02T06:22:26.150106Z"
    }
   },
   "cell_type": "code",
   "source": [
    "df[\"Product_Count\"] = df[\"Product\"].apply(len)\n",
    "df"
   ],
   "id": "ae2514a2f7a87eb2",
   "outputs": [
    {
     "data": {
      "text/plain": [
       "                                Action  \\\n",
       "0          Complain (General Customer)   \n",
       "1        Compliment (General Customer)   \n",
       "2   Feedback/Report (General Customer)   \n",
       "3           Inquiry (General Customer)   \n",
       "4           Request (General Customer)   \n",
       "5              Spam (General Customer)   \n",
       "6               Report Status Checking   \n",
       "7                             Campaign   \n",
       "8                              Ongoing   \n",
       "9                        Miscellaneous   \n",
       "10                                Test   \n",
       "11                               Sales   \n",
       "12                            Eskalasi   \n",
       "\n",
       "                                              Product  Product_Count  \n",
       "0   [Branchless, Credit Card, Funding, Lending, Ot...             10  \n",
       "1   [Branchless, Credit Cards, Funding, Lending, O...              6  \n",
       "2   [Branchless, Credit Cards, Funding, Lending, O...              6  \n",
       "3   [Branchless, Credit Card, Funding, Lending, Ot...             10  \n",
       "4   [Branchless, Credit Cards, Funding, Lending, O...             10  \n",
       "5                                              [Spam]              1  \n",
       "6   [Branchless, Credit Cards, Funding, Lending, O...              6  \n",
       "7   [CNAF, Credit Cards General, Telesales Dok KTP...             19  \n",
       "8   [Chat lanjutan, Info belum lengkap, Salah laya...              3  \n",
       "9                                        [Salah Nama]              1  \n",
       "10                                             [Test]              1  \n",
       "11  [Cash Plus, Credit Card Basic, Credit Card Sup...              6  \n",
       "12                                         [Eskalasi]              1  "
      ],
      "text/html": [
       "<div>\n",
       "<style scoped>\n",
       "    .dataframe tbody tr th:only-of-type {\n",
       "        vertical-align: middle;\n",
       "    }\n",
       "\n",
       "    .dataframe tbody tr th {\n",
       "        vertical-align: top;\n",
       "    }\n",
       "\n",
       "    .dataframe thead th {\n",
       "        text-align: right;\n",
       "    }\n",
       "</style>\n",
       "<table border=\"1\" class=\"dataframe\">\n",
       "  <thead>\n",
       "    <tr style=\"text-align: right;\">\n",
       "      <th></th>\n",
       "      <th>Action</th>\n",
       "      <th>Product</th>\n",
       "      <th>Product_Count</th>\n",
       "    </tr>\n",
       "  </thead>\n",
       "  <tbody>\n",
       "    <tr>\n",
       "      <th>0</th>\n",
       "      <td>Complain (General Customer)</td>\n",
       "      <td>[Branchless, Credit Card, Funding, Lending, Ot...</td>\n",
       "      <td>10</td>\n",
       "    </tr>\n",
       "    <tr>\n",
       "      <th>1</th>\n",
       "      <td>Compliment (General Customer)</td>\n",
       "      <td>[Branchless, Credit Cards, Funding, Lending, O...</td>\n",
       "      <td>6</td>\n",
       "    </tr>\n",
       "    <tr>\n",
       "      <th>2</th>\n",
       "      <td>Feedback/Report (General Customer)</td>\n",
       "      <td>[Branchless, Credit Cards, Funding, Lending, O...</td>\n",
       "      <td>6</td>\n",
       "    </tr>\n",
       "    <tr>\n",
       "      <th>3</th>\n",
       "      <td>Inquiry (General Customer)</td>\n",
       "      <td>[Branchless, Credit Card, Funding, Lending, Ot...</td>\n",
       "      <td>10</td>\n",
       "    </tr>\n",
       "    <tr>\n",
       "      <th>4</th>\n",
       "      <td>Request (General Customer)</td>\n",
       "      <td>[Branchless, Credit Cards, Funding, Lending, O...</td>\n",
       "      <td>10</td>\n",
       "    </tr>\n",
       "    <tr>\n",
       "      <th>5</th>\n",
       "      <td>Spam (General Customer)</td>\n",
       "      <td>[Spam]</td>\n",
       "      <td>1</td>\n",
       "    </tr>\n",
       "    <tr>\n",
       "      <th>6</th>\n",
       "      <td>Report Status Checking</td>\n",
       "      <td>[Branchless, Credit Cards, Funding, Lending, O...</td>\n",
       "      <td>6</td>\n",
       "    </tr>\n",
       "    <tr>\n",
       "      <th>7</th>\n",
       "      <td>Campaign</td>\n",
       "      <td>[CNAF, Credit Cards General, Telesales Dok KTP...</td>\n",
       "      <td>19</td>\n",
       "    </tr>\n",
       "    <tr>\n",
       "      <th>8</th>\n",
       "      <td>Ongoing</td>\n",
       "      <td>[Chat lanjutan, Info belum lengkap, Salah laya...</td>\n",
       "      <td>3</td>\n",
       "    </tr>\n",
       "    <tr>\n",
       "      <th>9</th>\n",
       "      <td>Miscellaneous</td>\n",
       "      <td>[Salah Nama]</td>\n",
       "      <td>1</td>\n",
       "    </tr>\n",
       "    <tr>\n",
       "      <th>10</th>\n",
       "      <td>Test</td>\n",
       "      <td>[Test]</td>\n",
       "      <td>1</td>\n",
       "    </tr>\n",
       "    <tr>\n",
       "      <th>11</th>\n",
       "      <td>Sales</td>\n",
       "      <td>[Cash Plus, Credit Card Basic, Credit Card Sup...</td>\n",
       "      <td>6</td>\n",
       "    </tr>\n",
       "    <tr>\n",
       "      <th>12</th>\n",
       "      <td>Eskalasi</td>\n",
       "      <td>[Eskalasi]</td>\n",
       "      <td>1</td>\n",
       "    </tr>\n",
       "  </tbody>\n",
       "</table>\n",
       "</div>"
      ]
     },
     "execution_count": 27,
     "metadata": {},
     "output_type": "execute_result"
    }
   ],
   "execution_count": 27
  },
  {
   "metadata": {},
   "cell_type": "markdown",
   "source": "# READ JSON",
   "id": "70cf16aec4110a83"
  },
  {
   "metadata": {
    "ExecuteTime": {
     "end_time": "2025-01-02T06:24:43.177533Z",
     "start_time": "2025-01-02T06:24:43.169067Z"
    }
   },
   "cell_type": "code",
   "source": [
    "# load json file\n",
    "with open('action_product_to_detail.json', 'r') as f:\n",
    "    data = json.load(f)\n",
    "\n",
    "max_option_layer_3 = len(max(data.values(), key=len))\n",
    "max_option_layer_3"
   ],
   "id": "30440a2e2f30234b",
   "outputs": [
    {
     "data": {
      "text/plain": [
       "69"
      ]
     },
     "execution_count": 31,
     "metadata": {},
     "output_type": "execute_result"
    }
   ],
   "execution_count": 31
  },
  {
   "metadata": {
    "ExecuteTime": {
     "end_time": "2025-01-02T06:23:56.141347Z",
     "start_time": "2025-01-02T06:23:56.124143Z"
    }
   },
   "cell_type": "code",
   "source": [
    "with open('action_to_product.json', 'r') as f:\n",
    "    data = json.load(f)\n",
    "\n",
    "max_option_layer_2 = len(max(data.values(), key=len))\n",
    "max_option_layer_2"
   ],
   "id": "392abe1eeed38071",
   "outputs": [
    {
     "data": {
      "text/plain": [
       "19"
      ]
     },
     "execution_count": 30,
     "metadata": {},
     "output_type": "execute_result"
    }
   ],
   "execution_count": 30
  },
  {
   "metadata": {
    "ExecuteTime": {
     "end_time": "2025-01-02T06:22:26.216266Z",
     "start_time": "2025-01-02T06:22:26.214986Z"
    }
   },
   "cell_type": "code",
   "source": "",
   "id": "d32df96796a15dad",
   "outputs": [],
   "execution_count": null
  }
 ],
 "metadata": {
  "kernelspec": {
   "name": "python3",
   "language": "python",
   "display_name": "Python 3 (ipykernel)"
  }
 },
 "nbformat": 5,
 "nbformat_minor": 9
}
