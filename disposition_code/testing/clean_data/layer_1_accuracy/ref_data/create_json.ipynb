{
 "cells": [
  {
   "metadata": {},
   "cell_type": "markdown",
   "source": "# Import Excel",
   "id": "a6871d728a78464b"
  },
  {
   "metadata": {
    "ExecuteTime": {
     "end_time": "2025-01-01T10:04:52.562684Z",
     "start_time": "2025-01-01T10:04:52.166565Z"
    }
   },
   "cell_type": "code",
   "source": [
    "import pandas as pd\n",
    "# read file from excel\n",
    "df = pd.read_excel('../../../clean_data/disposition_code_ref_table_cleaned.xlsx')\n",
    "df.drop(columns=[\"Konkatenasi_Layer123\"], inplace=True)\n",
    "df"
   ],
   "id": "e3f1599f5e8c7b9c",
   "outputs": [
    {
     "data": {
      "text/plain": [
       "              Layer 1   Layer 2                      Layer 3\n",
       "0            Complain       ATM         Barang Jatuh Di Area\n",
       "1            Complain       ATM                  Gagal Tarik\n",
       "2            Complain       ATM              Gagal Transaksi\n",
       "3            Complain       ATM     Jumlah Uang Tidak Sesuai\n",
       "4            Complain       ATM      Kebersihan/ Kelengkapan\n",
       "...               ...       ...                          ...\n",
       "1143  Campaign/ Sales       KTA  Sales Done CC KTP Non Leads\n",
       "1144  Campaign/ Sales       KTA           Sales Unidentified\n",
       "1145         Eskalasi  Eskalasi            Kontak  VDN Staff\n",
       "1146         Eskalasi  Eskalasi              Kontak POH/ SPV\n",
       "1147         Eskalasi  Eskalasi          Kontak Other Places\n",
       "\n",
       "[1148 rows x 3 columns]"
      ],
      "text/html": [
       "<div>\n",
       "<style scoped>\n",
       "    .dataframe tbody tr th:only-of-type {\n",
       "        vertical-align: middle;\n",
       "    }\n",
       "\n",
       "    .dataframe tbody tr th {\n",
       "        vertical-align: top;\n",
       "    }\n",
       "\n",
       "    .dataframe thead th {\n",
       "        text-align: right;\n",
       "    }\n",
       "</style>\n",
       "<table border=\"1\" class=\"dataframe\">\n",
       "  <thead>\n",
       "    <tr style=\"text-align: right;\">\n",
       "      <th></th>\n",
       "      <th>Layer 1</th>\n",
       "      <th>Layer 2</th>\n",
       "      <th>Layer 3</th>\n",
       "    </tr>\n",
       "  </thead>\n",
       "  <tbody>\n",
       "    <tr>\n",
       "      <th>0</th>\n",
       "      <td>Complain</td>\n",
       "      <td>ATM</td>\n",
       "      <td>Barang Jatuh Di Area</td>\n",
       "    </tr>\n",
       "    <tr>\n",
       "      <th>1</th>\n",
       "      <td>Complain</td>\n",
       "      <td>ATM</td>\n",
       "      <td>Gagal Tarik</td>\n",
       "    </tr>\n",
       "    <tr>\n",
       "      <th>2</th>\n",
       "      <td>Complain</td>\n",
       "      <td>ATM</td>\n",
       "      <td>Gagal Transaksi</td>\n",
       "    </tr>\n",
       "    <tr>\n",
       "      <th>3</th>\n",
       "      <td>Complain</td>\n",
       "      <td>ATM</td>\n",
       "      <td>Jumlah Uang Tidak Sesuai</td>\n",
       "    </tr>\n",
       "    <tr>\n",
       "      <th>4</th>\n",
       "      <td>Complain</td>\n",
       "      <td>ATM</td>\n",
       "      <td>Kebersihan/ Kelengkapan</td>\n",
       "    </tr>\n",
       "    <tr>\n",
       "      <th>...</th>\n",
       "      <td>...</td>\n",
       "      <td>...</td>\n",
       "      <td>...</td>\n",
       "    </tr>\n",
       "    <tr>\n",
       "      <th>1143</th>\n",
       "      <td>Campaign/ Sales</td>\n",
       "      <td>KTA</td>\n",
       "      <td>Sales Done CC KTP Non Leads</td>\n",
       "    </tr>\n",
       "    <tr>\n",
       "      <th>1144</th>\n",
       "      <td>Campaign/ Sales</td>\n",
       "      <td>KTA</td>\n",
       "      <td>Sales Unidentified</td>\n",
       "    </tr>\n",
       "    <tr>\n",
       "      <th>1145</th>\n",
       "      <td>Eskalasi</td>\n",
       "      <td>Eskalasi</td>\n",
       "      <td>Kontak  VDN Staff</td>\n",
       "    </tr>\n",
       "    <tr>\n",
       "      <th>1146</th>\n",
       "      <td>Eskalasi</td>\n",
       "      <td>Eskalasi</td>\n",
       "      <td>Kontak POH/ SPV</td>\n",
       "    </tr>\n",
       "    <tr>\n",
       "      <th>1147</th>\n",
       "      <td>Eskalasi</td>\n",
       "      <td>Eskalasi</td>\n",
       "      <td>Kontak Other Places</td>\n",
       "    </tr>\n",
       "  </tbody>\n",
       "</table>\n",
       "<p>1148 rows × 3 columns</p>\n",
       "</div>"
      ]
     },
     "execution_count": 1,
     "metadata": {},
     "output_type": "execute_result"
    }
   ],
   "execution_count": 1
  },
  {
   "metadata": {},
   "cell_type": "markdown",
   "source": "# Create JSON file for mapping",
   "id": "6ad77e1a4f5235e5"
  },
  {
   "metadata": {
    "ExecuteTime": {
     "end_time": "2025-01-01T10:05:09.752742Z",
     "start_time": "2025-01-01T10:05:09.728030Z"
    }
   },
   "cell_type": "code",
   "source": [
    "import json\n",
    "\n",
    "list_of_option = {}\n",
    "list_of_option[\"value\"] = []\n",
    "\n",
    "for _, row in df.iterrows():\n",
    "    if row.iloc[0].strip() not in list_of_option[\"value\"]:\n",
    "        list_of_option[\"value\"].append(row.iloc[0].strip())\n",
    "\n",
    "result = json.dumps(list_of_option, indent=2)\n",
    "\n",
    "# create json file\n",
    "with open(\"list_of_option.json\", \"w\") as f:\n",
    "    f.write(result)"
   ],
   "id": "19e3ba4a9e700f4d",
   "outputs": [],
   "execution_count": 3
  },
  {
   "metadata": {
    "ExecuteTime": {
     "end_time": "2025-01-01T09:02:11.173143Z",
     "start_time": "2025-01-01T09:02:11.171588Z"
    }
   },
   "cell_type": "code",
   "source": "",
   "id": "d7319ddce88f5c89",
   "outputs": [],
   "execution_count": null
  }
 ],
 "metadata": {
  "kernelspec": {
   "name": "python3",
   "language": "python",
   "display_name": "Python 3 (ipykernel)"
  }
 },
 "nbformat": 5,
 "nbformat_minor": 9
}
