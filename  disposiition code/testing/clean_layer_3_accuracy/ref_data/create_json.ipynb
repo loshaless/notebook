{
 "cells": [
  {
   "metadata": {},
   "cell_type": "markdown",
   "source": "# Import Excel",
   "id": "a6871d728a78464b"
  },
  {
   "metadata": {
    "ExecuteTime": {
     "end_time": "2025-01-01T03:38:52.432176Z",
     "start_time": "2025-01-01T03:38:52.357063Z"
    }
   },
   "cell_type": "code",
   "source": [
    "import pandas as pd\n",
    "# read file from excel\n",
    "df = pd.read_excel('../../clean_data/disposition_code_ref_table_cleaned.xlsx')\n",
    "df.drop(columns=[\"Konkatenasi_Layer123\"], inplace=True)\n",
    "df"
   ],
   "id": "e3f1599f5e8c7b9c",
   "outputs": [
    {
     "data": {
      "text/plain": [
       "              Layer 1   Layer 2                      Layer 3\n",
       "0            Complain       ATM         Barang Jatuh Di Area\n",
       "1            Complain       ATM                  Gagal Tarik\n",
       "2            Complain       ATM              Gagal Transaksi\n",
       "3            Complain       ATM     Jumlah Uang Tidak Sesuai\n",
       "4            Complain       ATM      Kebersihan/ Kelengkapan\n",
       "...               ...       ...                          ...\n",
       "1143  Campaign/ Sales       KTA  Sales Done CC KTP Non Leads\n",
       "1144  Campaign/ Sales       KTA           Sales Unidentified\n",
       "1145         Eskalasi  Eskalasi            Kontak  VDN Staff\n",
       "1146         Eskalasi  Eskalasi              Kontak POH/ SPV\n",
       "1147         Eskalasi  Eskalasi          Kontak Other Places\n",
       "\n",
       "[1148 rows x 3 columns]"
      ],
      "text/html": [
       "<div>\n",
       "<style scoped>\n",
       "    .dataframe tbody tr th:only-of-type {\n",
       "        vertical-align: middle;\n",
       "    }\n",
       "\n",
       "    .dataframe tbody tr th {\n",
       "        vertical-align: top;\n",
       "    }\n",
       "\n",
       "    .dataframe thead th {\n",
       "        text-align: right;\n",
       "    }\n",
       "</style>\n",
       "<table border=\"1\" class=\"dataframe\">\n",
       "  <thead>\n",
       "    <tr style=\"text-align: right;\">\n",
       "      <th></th>\n",
       "      <th>Layer 1</th>\n",
       "      <th>Layer 2</th>\n",
       "      <th>Layer 3</th>\n",
       "    </tr>\n",
       "  </thead>\n",
       "  <tbody>\n",
       "    <tr>\n",
       "      <th>0</th>\n",
       "      <td>Complain</td>\n",
       "      <td>ATM</td>\n",
       "      <td>Barang Jatuh Di Area</td>\n",
       "    </tr>\n",
       "    <tr>\n",
       "      <th>1</th>\n",
       "      <td>Complain</td>\n",
       "      <td>ATM</td>\n",
       "      <td>Gagal Tarik</td>\n",
       "    </tr>\n",
       "    <tr>\n",
       "      <th>2</th>\n",
       "      <td>Complain</td>\n",
       "      <td>ATM</td>\n",
       "      <td>Gagal Transaksi</td>\n",
       "    </tr>\n",
       "    <tr>\n",
       "      <th>3</th>\n",
       "      <td>Complain</td>\n",
       "      <td>ATM</td>\n",
       "      <td>Jumlah Uang Tidak Sesuai</td>\n",
       "    </tr>\n",
       "    <tr>\n",
       "      <th>4</th>\n",
       "      <td>Complain</td>\n",
       "      <td>ATM</td>\n",
       "      <td>Kebersihan/ Kelengkapan</td>\n",
       "    </tr>\n",
       "    <tr>\n",
       "      <th>...</th>\n",
       "      <td>...</td>\n",
       "      <td>...</td>\n",
       "      <td>...</td>\n",
       "    </tr>\n",
       "    <tr>\n",
       "      <th>1143</th>\n",
       "      <td>Campaign/ Sales</td>\n",
       "      <td>KTA</td>\n",
       "      <td>Sales Done CC KTP Non Leads</td>\n",
       "    </tr>\n",
       "    <tr>\n",
       "      <th>1144</th>\n",
       "      <td>Campaign/ Sales</td>\n",
       "      <td>KTA</td>\n",
       "      <td>Sales Unidentified</td>\n",
       "    </tr>\n",
       "    <tr>\n",
       "      <th>1145</th>\n",
       "      <td>Eskalasi</td>\n",
       "      <td>Eskalasi</td>\n",
       "      <td>Kontak  VDN Staff</td>\n",
       "    </tr>\n",
       "    <tr>\n",
       "      <th>1146</th>\n",
       "      <td>Eskalasi</td>\n",
       "      <td>Eskalasi</td>\n",
       "      <td>Kontak POH/ SPV</td>\n",
       "    </tr>\n",
       "    <tr>\n",
       "      <th>1147</th>\n",
       "      <td>Eskalasi</td>\n",
       "      <td>Eskalasi</td>\n",
       "      <td>Kontak Other Places</td>\n",
       "    </tr>\n",
       "  </tbody>\n",
       "</table>\n",
       "<p>1148 rows × 3 columns</p>\n",
       "</div>"
      ]
     },
     "execution_count": 10,
     "metadata": {},
     "output_type": "execute_result"
    }
   ],
   "execution_count": 10
  },
  {
   "metadata": {},
   "cell_type": "markdown",
   "source": "# Create JSON file for mapping",
   "id": "6ad77e1a4f5235e5"
  },
  {
   "metadata": {
    "ExecuteTime": {
     "end_time": "2025-01-01T03:38:52.464791Z",
     "start_time": "2025-01-01T03:38:52.440441Z"
    }
   },
   "cell_type": "code",
   "source": [
    "import json\n",
    "\n",
    "action_product_to_detail = {}\n",
    "\n",
    "for _, row in df.iterrows():\n",
    "    action_product, detail =f\"{row.iloc[0].strip()}|{row.iloc[1].strip()}\", row.iloc[2].strip()\n",
    "\n",
    "    if action_product not in action_product_to_detail:\n",
    "        action_product_to_detail[action_product] = []\n",
    "\n",
    "    if detail not in action_product_to_detail[action_product]:\n",
    "        action_product_to_detail[action_product].append(detail)\n",
    "\n",
    "result = json.dumps(action_product_to_detail, indent=2)\n",
    "\n",
    "# create json file\n",
    "with open(\"action_product_to_detail.json\", \"w\") as f:\n",
    "    f.write(result)"
   ],
   "id": "19e3ba4a9e700f4d",
   "outputs": [],
   "execution_count": 11
  },
  {
   "metadata": {
    "ExecuteTime": {
     "end_time": "2025-01-01T03:38:52.487381Z",
     "start_time": "2025-01-01T03:38:52.485692Z"
    }
   },
   "cell_type": "code",
   "source": "",
   "id": "d7319ddce88f5c89",
   "outputs": [],
   "execution_count": null
  }
 ],
 "metadata": {
  "kernelspec": {
   "name": "python3",
   "language": "python",
   "display_name": "Python 3 (ipykernel)"
  }
 },
 "nbformat": 5,
 "nbformat_minor": 9
}
