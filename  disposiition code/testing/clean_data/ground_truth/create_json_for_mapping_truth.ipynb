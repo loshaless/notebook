{
 "cells": [
  {
   "metadata": {
    "ExecuteTime": {
     "end_time": "2024-12-31T12:52:38.599449Z",
     "start_time": "2024-12-31T12:52:38.554017Z"
    }
   },
   "cell_type": "code",
   "source": [
    "import pandas as pd\n",
    "\n",
    "# import the data from excell with sheet name 'ground_truth'\n",
    "ground_truth = pd.read_excel('Disposition Code Testing.xlsx', sheet_name='ground_truth')\n"
   ],
   "id": "b6f16467983e3cf8",
   "outputs": [],
   "execution_count": 6
  },
  {
   "metadata": {},
   "cell_type": "markdown",
   "source": "# CREATE GROUND TRUTH JSON FILE",
   "id": "6ff3553cff59acec"
  },
  {
   "metadata": {
    "ExecuteTime": {
     "end_time": "2024-12-31T12:52:38.612353Z",
     "start_time": "2024-12-31T12:52:38.607411Z"
    }
   },
   "cell_type": "code",
   "source": [
    "import json\n",
    "\n",
    "# filter df, to only show interaction_id_edit and GroundTruth columns\n",
    "ground_truth = ground_truth[['interaction_id_edit', 'CleanGroundTruth']]\n",
    "# create a json with the interaction_id_edit as key and GroundTruth as value\n",
    "ground_truth = ground_truth.set_index('interaction_id_edit').to_dict()['CleanGroundTruth']\n",
    "# remove all last char from they key\n",
    "ground_truth = {k[:-1]: v for k, v in ground_truth.items()}\n",
    "\n",
    "# export this to json file, please add new line for better view\n",
    "with open('ground_truth.json', 'w') as f:\n",
    "    json.dump(ground_truth, f, indent=4)"
   ],
   "id": "54666c898bec337",
   "outputs": [],
   "execution_count": 7
  },
  {
   "metadata": {},
   "cell_type": "markdown",
   "source": "# TEST JSON FILE",
   "id": "a6b4dae407a59043"
  },
  {
   "metadata": {
    "ExecuteTime": {
     "end_time": "2024-12-31T12:52:38.621992Z",
     "start_time": "2024-12-31T12:52:38.619875Z"
    }
   },
   "cell_type": "code",
   "source": [
    "# load json file\n",
    "with open('ground_truth.json', 'r') as f:\n",
    "    data = json.load(f)"
   ],
   "id": "fbda6fc5759cc67d",
   "outputs": [],
   "execution_count": 8
  }
 ],
 "metadata": {
  "kernelspec": {
   "name": "python3",
   "language": "python",
   "display_name": "Python 3 (ipykernel)"
  }
 },
 "nbformat": 5,
 "nbformat_minor": 9
}
