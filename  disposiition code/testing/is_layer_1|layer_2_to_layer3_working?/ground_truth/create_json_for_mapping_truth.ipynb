{
 "cells": [
  {
   "metadata": {
    "ExecuteTime": {
     "end_time": "2025-01-01T08:10:21.172773Z",
     "start_time": "2025-01-01T08:10:21.132622Z"
    }
   },
   "cell_type": "code",
   "source": [
    "import pandas as pd\n",
    "\n",
    "def clean_ground_truth(value):\n",
    "    if pd.isna(value):\n",
    "        return value\n",
    "    parts = value.split('|')\n",
    "    return parts[-1]\n",
    "\n",
    "# import the data from excell with sheet name 'ground_truth'\n",
    "ground_truth = pd.read_excel('Disposition Code Testing.xlsx', sheet_name='ground_truth')\n",
    "ground_truth['CleanGroundTruth'] = ground_truth['CleanGroundTruth'].apply(clean_ground_truth)"
   ],
   "id": "b6f16467983e3cf8",
   "outputs": [
    {
     "data": {
      "text/plain": [
       "0                                Gagal Tarik\n",
       "1                        Sanggahan Transaksi\n",
       "2                          Kendala Transaksi\n",
       "3                        Sanggahan Transaksi\n",
       "4                              Kendala Login\n",
       "5                                      Other\n",
       "6                                      Other\n",
       "7                                      Limit\n",
       "8             Pembayaran Tagihan Credit Card\n",
       "9                                        NaN\n",
       "10                           Penutupan Kartu\n",
       "11                    Penawaran Tidak Sesuai\n",
       "12                       Biaya/ Bunga/ Denda\n",
       "13                       Biaya/ Bunga/ Denda\n",
       "14            Cicilan (Bunga/ Jumlah/ Tenor)\n",
       "15                            Cara Penagihan\n",
       "16            Pembayaran Tagihan Credit Card\n",
       "17                     Pelunasan Keseluruhan\n",
       "18                                     Fitur\n",
       "19                                       NaN\n",
       "20                       Biaya/ Bunga/ Denda\n",
       "21            Cicilan (Bunga/ Jumlah/ Tenor)\n",
       "22            Pembayaran Tagihan Credit Card\n",
       "23                          Credit Protector\n",
       "24                          Credit Protector\n",
       "25                          Credit Protector\n",
       "26                          Reversal Payment\n",
       "27            Cicilan (Bunga/ Jumlah/ Tenor)\n",
       "28                                Registrasi\n",
       "29                                       NaN\n",
       "30                         Kendala Transaksi\n",
       "31                             Kendala Login\n",
       "32                         Kendala Transaksi\n",
       "33            Pembayaran Tagihan Credit Card\n",
       "34           Tagihan (Tidak Terima/ Selisih)\n",
       "35           Tagihan (Tidak Terima/ Selisih)\n",
       "36                           Penutupan Kartu\n",
       "37                                     Other\n",
       "38                       Blokir/ Buka Blokir\n",
       "39                                   Tagihan\n",
       "40                         Kirim Ulang Kartu\n",
       "41                          Aktivasi dan PIN\n",
       "42                                       NaN\n",
       "43                                       NaN\n",
       "44            Cicilan (Bunga/ Jumlah/ Tenor)\n",
       "45                                       NaN\n",
       "46                                       NaN\n",
       "47    Pendaftaran dan Pembatalan E-Statement\n",
       "48                                       NaN\n",
       "Name: CleanGroundTruth, dtype: object"
      ]
     },
     "execution_count": 6,
     "metadata": {},
     "output_type": "execute_result"
    }
   ],
   "execution_count": 6
  },
  {
   "metadata": {},
   "cell_type": "markdown",
   "source": "# CREATE GROUND TRUTH JSON FILE",
   "id": "6ff3553cff59acec"
  },
  {
   "metadata": {
    "ExecuteTime": {
     "end_time": "2025-01-01T08:10:28.171288Z",
     "start_time": "2025-01-01T08:10:28.155567Z"
    }
   },
   "cell_type": "code",
   "source": [
    "import json\n",
    "\n",
    "# filter df, to only show interaction_id_edit and GroundTruth columns\n",
    "ground_truth = ground_truth[['interaction_id_edit', 'CleanGroundTruth']]\n",
    "# create a json with the interaction_id_edit as key and GroundTruth as value\n",
    "ground_truth = ground_truth.set_index('interaction_id_edit').to_dict()['CleanGroundTruth']\n",
    "# remove all last char from they key\n",
    "ground_truth = {k[:-1]: v for k, v in ground_truth.items()}\n",
    "\n",
    "# export this to json file, please add new line for better view\n",
    "with open('ground_truth.json', 'w') as f:\n",
    "    json.dump(ground_truth, f, indent=4)"
   ],
   "id": "54666c898bec337",
   "outputs": [],
   "execution_count": 7
  },
  {
   "metadata": {},
   "cell_type": "markdown",
   "source": "# TEST JSON FILE",
   "id": "a6b4dae407a59043"
  },
  {
   "metadata": {
    "ExecuteTime": {
     "end_time": "2025-01-01T08:10:31.147908Z",
     "start_time": "2025-01-01T08:10:31.142850Z"
    }
   },
   "cell_type": "code",
   "source": [
    "# load json file\n",
    "with open('ground_truth.json', 'r') as f:\n",
    "    data = json.load(f)"
   ],
   "id": "fbda6fc5759cc67d",
   "outputs": [],
   "execution_count": 8
  },
  {
   "metadata": {},
   "cell_type": "markdown",
   "source": "# GET LIST OF INPUT",
   "id": "a97a8dccf9e533b9"
  },
  {
   "metadata": {
    "ExecuteTime": {
     "end_time": "2025-01-01T05:05:47.179698Z",
     "start_time": "2025-01-01T05:05:47.174201Z"
    }
   },
   "cell_type": "code",
   "source": [
    "list_of_input = {}\n",
    "for k, v in data.items():\n",
    "    if not isinstance(v, float):\n",
    "        layers = v.split('|')\n",
    "        layer_1_plus_layer_2 = layers[0] + '|' + layers[1]\n",
    "        list_of_input[k] = layer_1_plus_layer_2\n",
    "\n",
    "# export list of input to json file\n",
    "with open('list_of_input.json', 'w') as f:\n",
    "    json.dump(list_of_input, f, indent=2)"
   ],
   "id": "975ad19b4426bbe8",
   "outputs": [],
   "execution_count": 26
  },
  {
   "metadata": {},
   "cell_type": "code",
   "outputs": [],
   "execution_count": null,
   "source": "",
   "id": "92d45e5df8d73540"
  }
 ],
 "metadata": {
  "kernelspec": {
   "name": "python3",
   "language": "python",
   "display_name": "Python 3 (ipykernel)"
  }
 },
 "nbformat": 5,
 "nbformat_minor": 9
}
