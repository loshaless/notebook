{
 "cells": [
  {
   "metadata": {
    "ExecuteTime": {
     "end_time": "2025-01-01T08:40:31.179710Z",
     "start_time": "2025-01-01T08:40:31.085634Z"
    }
   },
   "cell_type": "code",
   "source": [
    "import pandas as pd\n",
    "\n",
    "def clean_ground_truth(value):\n",
    "    if pd.isna(value):\n",
    "        return value\n",
    "    parts = value.split('|')\n",
    "    return parts[1]\n",
    "\n",
    "# import the data from excell with sheet name 'ground_truth'\n",
    "ground_truth = pd.read_excel('Disposition Code Testing.xlsx', sheet_name='ground_truth')\n",
    "ground_truth['CleanGroundTruth'] = ground_truth['CleanGroundTruth'].apply(clean_ground_truth)"
   ],
   "id": "b6f16467983e3cf8",
   "outputs": [],
   "execution_count": 6
  },
  {
   "metadata": {},
   "cell_type": "markdown",
   "source": "# CREATE GROUND TRUTH JSON FILE",
   "id": "6ff3553cff59acec"
  },
  {
   "metadata": {
    "ExecuteTime": {
     "end_time": "2025-01-01T08:40:32.781949Z",
     "start_time": "2025-01-01T08:40:32.775886Z"
    }
   },
   "cell_type": "code",
   "source": [
    "import json\n",
    "\n",
    "# filter df, to only show interaction_id_edit and GroundTruth columns\n",
    "ground_truth = ground_truth[['interaction_id_edit', 'CleanGroundTruth']]\n",
    "# create a json with the interaction_id_edit as key and GroundTruth as value\n",
    "ground_truth = ground_truth.set_index('interaction_id_edit').to_dict()['CleanGroundTruth']\n",
    "# remove all last char from they key\n",
    "ground_truth = {k[:-1]: v for k, v in ground_truth.items()}\n",
    "\n",
    "# export this to json file, please add new line for better view\n",
    "with open('ground_truth.json', 'w') as f:\n",
    "    json.dump(ground_truth, f, indent=4)"
   ],
   "id": "54666c898bec337",
   "outputs": [],
   "execution_count": 7
  },
  {
   "metadata": {},
   "cell_type": "markdown",
   "source": "# TEST JSON FILE",
   "id": "a6b4dae407a59043"
  },
  {
   "metadata": {
    "ExecuteTime": {
     "end_time": "2025-01-01T09:00:14.407646Z",
     "start_time": "2025-01-01T09:00:14.399705Z"
    }
   },
   "cell_type": "code",
   "source": [
    "# load json file\n",
    "with open('ground_truth.json', 'r') as f:\n",
    "    data = json.load(f)\n",
    "\n",
    "data"
   ],
   "id": "fbda6fc5759cc67d",
   "outputs": [
    {
     "data": {
      "text/plain": [
       "{'9151919416110000051': 'ATM',\n",
       " '9151919416110000052': 'Credit Card',\n",
       " '9151919416110000053': 'OCTO Mobile',\n",
       " '9151919416110000054': 'Credit Card',\n",
       " '9151919416110000055': 'OCTO Mobile',\n",
       " '9151919416110000056': 'Tabungan',\n",
       " '9151919416110000057': 'KPR',\n",
       " '9151919416110000058': 'Credit Card',\n",
       " '9151919416110000059': 'Credit Card',\n",
       " '9151919416110000060': nan,\n",
       " '9151919416110000061': 'Credit Card',\n",
       " '9151919416110000062': 'Telesales',\n",
       " '9151919416110000063': 'Credit Card',\n",
       " '9151919416110000064': 'Credit Card',\n",
       " '9151919416110000065': 'KTA/ PL',\n",
       " '9151919416110000066': 'Collection',\n",
       " '9151919416110000067': 'Credit Card',\n",
       " '9151919416110000068': 'KPR',\n",
       " '9151919416110000069': 'Credit Card',\n",
       " '9151919416110000070': nan,\n",
       " '9151919416110000071': 'Credit Card',\n",
       " '9151919416110000072': 'Credit Card',\n",
       " '9151919416110000073': 'Credit Card',\n",
       " '9151919416110000074': 'Credit Card',\n",
       " '9151919416110000075': 'Credit Card',\n",
       " '9151919416110000076': 'Credit Card',\n",
       " '9151919416110000078': 'Credit Card',\n",
       " '9151919416110000079': 'Credit Card',\n",
       " '9151919416110000080': 'OCTO Mobile',\n",
       " '9151919416110000081': nan,\n",
       " '9151919416110000082': 'OCTO Mobile',\n",
       " '9151919416110000083': 'OCTO Clicks',\n",
       " '9151919416110000084': 'OCTO Clicks',\n",
       " '9151919416110000085': 'Credit Card',\n",
       " '9151919416110000086': 'Credit Card',\n",
       " '9151919416110000087': 'Credit Card',\n",
       " '9151919416110000088': 'Credit Card',\n",
       " '9151919416110000089': 'Poin Xtra',\n",
       " '9151919416110000090': 'Credit Card',\n",
       " '9151919416110000091': 'Credit Card',\n",
       " '9151919416110000092': 'Credit Card',\n",
       " '9151919416110000093': 'Credit Card',\n",
       " '9151919416110000094': nan,\n",
       " '9151919416110000095': nan,\n",
       " '9151919416110000096': 'Credit Card',\n",
       " '9151919416110000097': nan,\n",
       " '9151919416110000098': nan,\n",
       " '9151919416110000099': 'Credit Card',\n",
       " '9151919416110000100': nan}"
      ]
     },
     "execution_count": 12,
     "metadata": {},
     "output_type": "execute_result"
    }
   ],
   "execution_count": 12
  },
  {
   "metadata": {},
   "cell_type": "code",
   "outputs": [],
   "execution_count": null,
   "source": "",
   "id": "5e19cd13fe150123"
  }
 ],
 "metadata": {
  "kernelspec": {
   "name": "python3",
   "language": "python",
   "display_name": "Python 3 (ipykernel)"
  }
 },
 "nbformat": 5,
 "nbformat_minor": 9
}
