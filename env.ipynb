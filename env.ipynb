{
 "cells": [
  {
   "metadata": {
    "ExecuteTime": {
     "end_time": "2024-12-24T14:05:44.348378Z",
     "start_time": "2024-12-24T14:05:44.337075Z"
    }
   },
   "cell_type": "code",
   "source": [
    "import os\n",
    "\n",
    "from dotenv import load_dotenv, dotenv_values"
   ],
   "id": "71b9616f0bb0fd34",
   "outputs": [],
   "execution_count": 4
  },
  {
   "metadata": {
    "ExecuteTime": {
     "end_time": "2024-12-24T14:15:38.494774Z",
     "start_time": "2024-12-24T14:15:38.468531Z"
    }
   },
   "cell_type": "code",
   "source": [
    "load_dotenv(override=True)\n",
    "\n",
    "print(os.getenv(\"MY_SECRET_KEY\"))\n",
    "print(os.getenv(\"COMBINED\"))\n",
    "print(os.getenv(\"MAIL\"))\n",
    "print(os.getenv(\"DB_PASSWORD\"))"
   ],
   "id": "b0e9f8781c8271dd",
   "outputs": [
    {
     "name": "stdout",
     "output_type": "stream",
     "text": [
      "HANSEL\n",
      "127.0.0.1:8000\n",
      "office@127.0.0.1\n",
      "None\n"
     ]
    }
   ],
   "execution_count": 8
  },
  {
   "metadata": {
    "ExecuteTime": {
     "end_time": "2024-12-24T14:16:10.891597Z",
     "start_time": "2024-12-24T14:16:10.875608Z"
    }
   },
   "cell_type": "code",
   "source": [
    "config = dotenv_values(\".env\")\n",
    "config"
   ],
   "id": "5e6c4230f89bfcd7",
   "outputs": [
    {
     "data": {
      "text/plain": [
       "OrderedDict([('MY_SECRET_KEY', 'HANSEL'),\n",
       "             ('HOST', '127.0.0.1'),\n",
       "             ('PORT', '8000'),\n",
       "             ('COMBINED', '127.0.0.1:8000'),\n",
       "             ('MAIL', 'office@127.0.0.1')])"
      ]
     },
     "execution_count": 11,
     "metadata": {},
     "output_type": "execute_result"
    }
   ],
   "execution_count": 11
  },
  {
   "metadata": {
    "ExecuteTime": {
     "end_time": "2024-12-24T14:18:20.210192Z",
     "start_time": "2024-12-24T14:18:20.194655Z"
    }
   },
   "cell_type": "code",
   "source": "os.environ",
   "id": "31df6cda9c0d12e8",
   "outputs": [
    {
     "data": {
      "text/plain": [
       "environ{'HOMEBREW_PREFIX': '/opt/homebrew',\n",
       "        'COMMAND_MODE': 'unix2003',\n",
       "        'INFOPATH': '/opt/homebrew/share/info:',\n",
       "        'SHELL': '/bin/zsh',\n",
       "        'PYTHONPATH': '/Users/hansel/Documents/CIMB/notebook:/Users/hansel/Documents/CIMB/notebook/src:/Users/hansel/Applications/PyCharm Professional Edition.app/Contents/plugins/python-ce/helpers/pydev:/Users/hansel/Applications/PyCharm Professional Edition.app/Contents/plugins/python/helpers-pro/jupyter_debug',\n",
       "        '__CFBundleIdentifier': 'com.jetbrains.pycharm',\n",
       "        'TMPDIR': '/var/folders/j7/tbqfxnv94qzcyn6lmjzq13_r0000gn/T/',\n",
       "        'LC_ALL': 'en_US.UTF-8',\n",
       "        'HOME': '/Users/hansel',\n",
       "        'NVM_INC': '/Users/hansel/.nvm/versions/node/v20.17.0/include/node',\n",
       "        'HOMEBREW_REPOSITORY': '/opt/homebrew',\n",
       "        'PATH': '/Users/hansel/Documents/CIMB/notebook/.venv/bin:/Applications/google-cloud-sdk/bin:/Users/hansel/.nvm/versions/node/v20.17.0/bin:/Library/Frameworks/Python.framework/Versions/3.11/bin:/Library/Frameworks/Python.framework/Versions/3.13/bin:/opt/homebrew/bin:/opt/homebrew/sbin:/usr/local/bin:/System/Cryptexes/App/usr/bin:/usr/bin:/bin:/usr/sbin:/sbin:/var/run/com.apple.security.cryptexd/codex.system/bootstrap/usr/local/bin:/var/run/com.apple.security.cryptexd/codex.system/bootstrap/usr/bin:/var/run/com.apple.security.cryptexd/codex.system/bootstrap/usr/appleinternal/bin:/usr/local/share/dotnet:/Users/hansel/Library/Application Support/JetBrains/Toolbox/scripts:/Applications/apache-maven-3.8.2/bin',\n",
       "        'LOGNAME': 'hansel',\n",
       "        'XPC_FLAGS': '0x0',\n",
       "        '__CF_USER_TEXT_ENCODING': '0x1F5:0x0:0x0',\n",
       "        'LANG': 'en_US.UTF-8',\n",
       "        'NVM_CD_FLAGS': '-q',\n",
       "        'NVM_DIR': '/Users/hansel/.nvm',\n",
       "        'LC_CTYPE': 'en_US.UTF-8',\n",
       "        'LANGUAGE': '',\n",
       "        'VIRTUAL_ENV': '/Users/hansel/Documents/CIMB/notebook/.venv',\n",
       "        'PS1': '(.venv) ',\n",
       "        'SSH_AUTH_SOCK': '/private/tmp/com.apple.launchd.NX9e0du1BG/Listeners',\n",
       "        'OLDPWD': '/',\n",
       "        'XPC_SERVICE_NAME': 'application.com.jetbrains.pycharm.100206700.100206705',\n",
       "        'M2_HOME': '/Applications/apache-maven-3.8.2',\n",
       "        'USER': 'hansel',\n",
       "        'HOMEBREW_CELLAR': '/opt/homebrew/Cellar',\n",
       "        'NVM_BIN': '/Users/hansel/.nvm/versions/node/v20.17.0/bin',\n",
       "        'PWD': '/Users/hansel/Documents/CIMB/notebook',\n",
       "        'JPY_SESSION_NAME': 'src/hansel/env.ipynb',\n",
       "        'JPY_PARENT_PID': '40191',\n",
       "        'PYDEVD_USE_FRAME_EVAL': 'NO',\n",
       "        'TERM': 'xterm-color',\n",
       "        'CLICOLOR': '1',\n",
       "        'FORCE_COLOR': '1',\n",
       "        'CLICOLOR_FORCE': '1',\n",
       "        'PAGER': 'cat',\n",
       "        'GIT_PAGER': 'cat',\n",
       "        'MPLBACKEND': 'module://matplotlib_inline.backend_inline',\n",
       "        'MY_SECRET_KEY': 'HANSEL',\n",
       "        'HOST': '127.0.0.1',\n",
       "        'PORT': '8000',\n",
       "        'COMBINED': '127.0.0.1:8000',\n",
       "        'MAIL': 'office@127.0.0.1'}"
      ]
     },
     "execution_count": 12,
     "metadata": {},
     "output_type": "execute_result"
    }
   ],
   "execution_count": 12
  },
  {
   "metadata": {},
   "cell_type": "code",
   "outputs": [],
   "execution_count": null,
   "source": "",
   "id": "c9380f2799743584"
  }
 ],
 "metadata": {
  "kernelspec": {
   "name": "python3",
   "language": "python",
   "display_name": "Python 3 (ipykernel)"
  }
 },
 "nbformat": 5,
 "nbformat_minor": 9
}
