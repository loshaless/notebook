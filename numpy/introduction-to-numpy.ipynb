{
 "cells": [
  {
   "cell_type": "code",
   "id": "85be2ed1c209ba5f",
   "metadata": {
    "ExecuteTime": {
     "end_time": "2025-01-11T05:12:00.796436Z",
     "start_time": "2025-01-11T05:12:00.123178Z"
    }
   },
   "source": [
    "import matplotlib.pyplot as plt\n",
    "import numpy as np\n",
    "from numpy.matlib import zeros"
   ],
   "outputs": [],
   "execution_count": 36
  },
  {
   "cell_type": "markdown",
   "id": "34e41b2d427e9fef",
   "metadata": {},
   "source": [
    "## Data Types and Attributes"
   ]
  },
  {
   "cell_type": "code",
   "id": "c0eaa4ed8abd9961",
   "metadata": {
    "ExecuteTime": {
     "end_time": "2025-01-09T17:13:38.375641Z",
     "start_time": "2025-01-09T17:13:38.367346Z"
    }
   },
   "source": [
    "# numpy main data type is ndarray\n",
    "a1 = np.array([1, 2, 3])\n",
    "a1"
   ],
   "outputs": [
    {
     "data": {
      "text/plain": [
       "array([1, 2, 3])"
      ]
     },
     "execution_count": 4,
     "metadata": {},
     "output_type": "execute_result"
    }
   ],
   "execution_count": 4
  },
  {
   "cell_type": "code",
   "id": "be450df1f9a6a260",
   "metadata": {
    "ExecuteTime": {
     "end_time": "2025-01-09T17:13:38.404085Z",
     "start_time": "2025-01-09T17:13:38.399478Z"
    }
   },
   "source": [
    "type(a1)"
   ],
   "outputs": [
    {
     "data": {
      "text/plain": [
       "numpy.ndarray"
      ]
     },
     "execution_count": 5,
     "metadata": {},
     "output_type": "execute_result"
    }
   ],
   "execution_count": 5
  },
  {
   "cell_type": "code",
   "id": "dd037a07f836c218",
   "metadata": {
    "ExecuteTime": {
     "end_time": "2025-01-09T17:13:38.443725Z",
     "start_time": "2025-01-09T17:13:38.438248Z"
    }
   },
   "source": [
    "a2 = np.array(\n",
    "    [\n",
    "        [1, 2, 3],\n",
    "        [4, 5, 6]\n",
    "    ]\n",
    ")\n",
    "a2"
   ],
   "outputs": [
    {
     "data": {
      "text/plain": [
       "array([[1, 2, 3],\n",
       "       [4, 5, 6]])"
      ]
     },
     "execution_count": 6,
     "metadata": {},
     "output_type": "execute_result"
    }
   ],
   "execution_count": 6
  },
  {
   "cell_type": "code",
   "id": "eed7b88c9d03bbb9",
   "metadata": {
    "ExecuteTime": {
     "end_time": "2025-01-09T17:13:38.742542Z",
     "start_time": "2025-01-09T17:13:38.739535Z"
    }
   },
   "source": [
    "a3 = np.array(\n",
    "    [\n",
    "        [\n",
    "            [1, 2, 3],\n",
    "            [4, 5, 6]\n",
    "        ],\n",
    "        [\n",
    "            [7, 8, 9],\n",
    "            [10, 11, 12]\n",
    "        ],\n",
    "        \n",
    "        [\n",
    "           [13, 14, 15],\n",
    "            [16, 17, 18]\n",
    "        ]\n",
    "    ]\n",
    ")\n",
    "\n",
    "a3.shape"
   ],
   "outputs": [
    {
     "data": {
      "text/plain": [
       "(3, 2, 3)"
      ]
     },
     "execution_count": 7,
     "metadata": {},
     "output_type": "execute_result"
    }
   ],
   "execution_count": 7
  },
  {
   "cell_type": "code",
   "id": "c73517d7ada54bc3",
   "metadata": {
    "ExecuteTime": {
     "end_time": "2025-01-09T17:13:38.815185Z",
     "start_time": "2025-01-09T17:13:38.811173Z"
    }
   },
   "source": [
    "a1.ndim, a2.ndim, a3.ndim"
   ],
   "outputs": [
    {
     "data": {
      "text/plain": [
       "(1, 2, 3)"
      ]
     },
     "execution_count": 8,
     "metadata": {},
     "output_type": "execute_result"
    }
   ],
   "execution_count": 8
  },
  {
   "cell_type": "code",
   "id": "ba1da70c1940b6c3",
   "metadata": {
    "ExecuteTime": {
     "end_time": "2025-01-09T17:13:38.828512Z",
     "start_time": "2025-01-09T17:13:38.824819Z"
    }
   },
   "source": [
    "a1.size, a2.size, a3.size"
   ],
   "outputs": [
    {
     "data": {
      "text/plain": [
       "(3, 6, 18)"
      ]
     },
     "execution_count": 9,
     "metadata": {},
     "output_type": "execute_result"
    }
   ],
   "execution_count": 9
  },
  {
   "cell_type": "code",
   "id": "f10e6d05073a3745",
   "metadata": {
    "ExecuteTime": {
     "end_time": "2025-01-09T17:13:38.864967Z",
     "start_time": "2025-01-09T17:13:38.861985Z"
    }
   },
   "source": [
    "type(a1), type(a2), type(a3)"
   ],
   "outputs": [
    {
     "data": {
      "text/plain": [
       "(numpy.ndarray, numpy.ndarray, numpy.ndarray)"
      ]
     },
     "execution_count": 10,
     "metadata": {},
     "output_type": "execute_result"
    }
   ],
   "execution_count": 10
  },
  {
   "cell_type": "code",
   "id": "ca57fd75b5326eec",
   "metadata": {
    "ExecuteTime": {
     "end_time": "2025-01-09T17:13:38.884959Z",
     "start_time": "2025-01-09T17:13:38.881420Z"
    }
   },
   "source": [
    "# Create a dataframe from a numpy array\n",
    "import pandas as pd\n",
    "df = pd.DataFrame(a2)\n",
    "df"
   ],
   "outputs": [
    {
     "data": {
      "text/plain": [
       "   0  1  2\n",
       "0  1  2  3\n",
       "1  4  5  6"
      ],
      "text/html": [
       "<div>\n",
       "<style scoped>\n",
       "    .dataframe tbody tr th:only-of-type {\n",
       "        vertical-align: middle;\n",
       "    }\n",
       "\n",
       "    .dataframe tbody tr th {\n",
       "        vertical-align: top;\n",
       "    }\n",
       "\n",
       "    .dataframe thead th {\n",
       "        text-align: right;\n",
       "    }\n",
       "</style>\n",
       "<table border=\"1\" class=\"dataframe\">\n",
       "  <thead>\n",
       "    <tr style=\"text-align: right;\">\n",
       "      <th></th>\n",
       "      <th>0</th>\n",
       "      <th>1</th>\n",
       "      <th>2</th>\n",
       "    </tr>\n",
       "  </thead>\n",
       "  <tbody>\n",
       "    <tr>\n",
       "      <th>0</th>\n",
       "      <td>1</td>\n",
       "      <td>2</td>\n",
       "      <td>3</td>\n",
       "    </tr>\n",
       "    <tr>\n",
       "      <th>1</th>\n",
       "      <td>4</td>\n",
       "      <td>5</td>\n",
       "      <td>6</td>\n",
       "    </tr>\n",
       "  </tbody>\n",
       "</table>\n",
       "</div>"
      ]
     },
     "execution_count": 11,
     "metadata": {},
     "output_type": "execute_result"
    }
   ],
   "execution_count": 11
  },
  {
   "cell_type": "markdown",
   "id": "dddc3c9305d21339",
   "metadata": {},
   "source": [
    "# 2. Creating array"
   ]
  },
  {
   "cell_type": "code",
   "id": "1e0c6a6faba3bb00",
   "metadata": {
    "ExecuteTime": {
     "end_time": "2025-01-09T17:13:38.902924Z",
     "start_time": "2025-01-09T17:13:38.898048Z"
    }
   },
   "source": [
    "sample_array = np.array([1, 2, 3])"
   ],
   "outputs": [],
   "execution_count": 12
  },
  {
   "cell_type": "code",
   "id": "d372c3924191807a",
   "metadata": {
    "ExecuteTime": {
     "end_time": "2025-01-09T17:13:38.950672Z",
     "start_time": "2025-01-09T17:13:38.946037Z"
    }
   },
   "source": [
    "ones = np.ones((3, 2))\n",
    "ones"
   ],
   "outputs": [
    {
     "data": {
      "text/plain": [
       "array([[1., 1.],\n",
       "       [1., 1.],\n",
       "       [1., 1.]])"
      ]
     },
     "execution_count": 13,
     "metadata": {},
     "output_type": "execute_result"
    }
   ],
   "execution_count": 13
  },
  {
   "cell_type": "code",
   "id": "cd599ff920fc0baf",
   "metadata": {
    "ExecuteTime": {
     "end_time": "2025-01-09T17:13:38.994639Z",
     "start_time": "2025-01-09T17:13:38.985069Z"
    }
   },
   "source": [
    "zeros = np.zeros((3, 2))\n",
    "zeros"
   ],
   "outputs": [
    {
     "data": {
      "text/plain": [
       "array([[0., 0.],\n",
       "       [0., 0.],\n",
       "       [0., 0.]])"
      ]
     },
     "execution_count": 14,
     "metadata": {},
     "output_type": "execute_result"
    }
   ],
   "execution_count": 14
  },
  {
   "cell_type": "code",
   "id": "8c2e2741ea389f9c",
   "metadata": {
    "ExecuteTime": {
     "end_time": "2025-01-09T17:13:39.087391Z",
     "start_time": "2025-01-09T17:13:39.084647Z"
    }
   },
   "source": [
    "range_array = np.arange(0, 10, 2)\n",
    "range_array"
   ],
   "outputs": [
    {
     "data": {
      "text/plain": [
       "array([0, 2, 4, 6, 8])"
      ]
     },
     "execution_count": 15,
     "metadata": {},
     "output_type": "execute_result"
    }
   ],
   "execution_count": 15
  },
  {
   "cell_type": "code",
   "id": "fbf6216bd0980a8b",
   "metadata": {
    "ExecuteTime": {
     "end_time": "2025-01-09T17:13:39.149900Z",
     "start_time": "2025-01-09T17:13:39.144293Z"
    }
   },
   "source": [
    "random_array = np.random.randint(0,10,size=(3,5))\n",
    "random_array"
   ],
   "outputs": [
    {
     "data": {
      "text/plain": [
       "array([[2, 0, 2, 9, 1],\n",
       "       [5, 9, 5, 0, 6],\n",
       "       [1, 5, 3, 3, 1]])"
      ]
     },
     "execution_count": 16,
     "metadata": {},
     "output_type": "execute_result"
    }
   ],
   "execution_count": 16
  },
  {
   "cell_type": "code",
   "id": "2d27b259dc9e1d51",
   "metadata": {
    "ExecuteTime": {
     "end_time": "2025-01-09T17:13:39.275994Z",
     "start_time": "2025-01-09T17:13:39.272336Z"
    }
   },
   "source": [
    "random_array_2 = np.random.random((3,5,2))\n",
    "random_array_2"
   ],
   "outputs": [
    {
     "data": {
      "text/plain": [
       "array([[[0.56369222, 0.83572662],\n",
       "        [0.09711157, 0.12977346],\n",
       "        [0.74562228, 0.79302569],\n",
       "        [0.68850778, 0.38955549],\n",
       "        [0.86174674, 0.61145377]],\n",
       "\n",
       "       [[0.71482654, 0.33271241],\n",
       "        [0.02650135, 0.47046812],\n",
       "        [0.08957471, 0.20712576],\n",
       "        [0.04665984, 0.1627496 ],\n",
       "        [0.70200426, 0.7864601 ]],\n",
       "\n",
       "       [[0.76397683, 0.26459872],\n",
       "        [0.72498726, 0.20254623],\n",
       "        [0.47478854, 0.03439982],\n",
       "        [0.1141159 , 0.63985354],\n",
       "        [0.38685151, 0.54971806]]])"
      ]
     },
     "execution_count": 17,
     "metadata": {},
     "output_type": "execute_result"
    }
   ],
   "execution_count": 17
  },
  {
   "cell_type": "code",
   "id": "cf7203352be944e5",
   "metadata": {
    "ExecuteTime": {
     "end_time": "2025-01-09T17:13:39.352372Z",
     "start_time": "2025-01-09T17:13:39.334546Z"
    }
   },
   "source": [
    "random_array_3 = np.random.rand(3,5,2)\n",
    "random_array_3"
   ],
   "outputs": [
    {
     "data": {
      "text/plain": [
       "array([[[0.62045189, 0.08419524],\n",
       "        [0.24079324, 0.01297294],\n",
       "        [0.7968401 , 0.64851861],\n",
       "        [0.22635719, 0.25787667],\n",
       "        [0.84575747, 0.62297679]],\n",
       "\n",
       "       [[0.38475885, 0.60162769],\n",
       "        [0.96856245, 0.88583946],\n",
       "        [0.80567768, 0.8618438 ],\n",
       "        [0.14930116, 0.34333129],\n",
       "        [0.96988677, 0.5110907 ]],\n",
       "\n",
       "       [[0.29025448, 0.01328512],\n",
       "        [0.57428506, 0.10903925],\n",
       "        [0.19068347, 0.80442823],\n",
       "        [0.99823907, 0.85628763],\n",
       "        [0.82492613, 0.44906431]]])"
      ]
     },
     "execution_count": 18,
     "metadata": {},
     "output_type": "execute_result"
    }
   ],
   "execution_count": 18
  },
  {
   "metadata": {
    "ExecuteTime": {
     "end_time": "2025-01-09T17:13:39.384749Z",
     "start_time": "2025-01-09T17:13:39.381804Z"
    }
   },
   "cell_type": "code",
   "source": [
    "random_array_4 = np.random.randint(10, size=(3,5))\n",
    "random_array_4"
   ],
   "id": "44ead724964734aa",
   "outputs": [
    {
     "data": {
      "text/plain": [
       "array([[5, 3, 5, 7, 3],\n",
       "       [3, 2, 9, 2, 4],\n",
       "       [6, 2, 1, 7, 8]])"
      ]
     },
     "execution_count": 19,
     "metadata": {},
     "output_type": "execute_result"
    }
   ],
   "execution_count": 19
  },
  {
   "metadata": {},
   "cell_type": "markdown",
   "source": "## 3 viewing array and matrices",
   "id": "5790ab1590bb6b7"
  },
  {
   "metadata": {
    "ExecuteTime": {
     "end_time": "2025-01-09T17:13:39.441776Z",
     "start_time": "2025-01-09T17:13:39.433796Z"
    }
   },
   "cell_type": "code",
   "source": "np.unique(random_array_4)",
   "id": "efa78f600386c6c0",
   "outputs": [
    {
     "data": {
      "text/plain": [
       "array([1, 2, 3, 4, 5, 6, 7, 8, 9])"
      ]
     },
     "execution_count": 20,
     "metadata": {},
     "output_type": "execute_result"
    }
   ],
   "execution_count": 20
  },
  {
   "metadata": {
    "ExecuteTime": {
     "end_time": "2025-01-09T17:13:39.509806Z",
     "start_time": "2025-01-09T17:13:39.504944Z"
    }
   },
   "cell_type": "code",
   "source": "random_array_3[0]",
   "id": "a1f5e4f5a892224a",
   "outputs": [
    {
     "data": {
      "text/plain": [
       "array([[0.62045189, 0.08419524],\n",
       "       [0.24079324, 0.01297294],\n",
       "       [0.7968401 , 0.64851861],\n",
       "       [0.22635719, 0.25787667],\n",
       "       [0.84575747, 0.62297679]])"
      ]
     },
     "execution_count": 21,
     "metadata": {},
     "output_type": "execute_result"
    }
   ],
   "execution_count": 21
  },
  {
   "metadata": {
    "ExecuteTime": {
     "end_time": "2025-01-09T17:13:39.583756Z",
     "start_time": "2025-01-09T17:13:39.581182Z"
    }
   },
   "cell_type": "code",
   "source": [
    "a4 = np.random.randint(10, size=(2,3,4,5))\n",
    "a4"
   ],
   "id": "b6241f40c426e1d9",
   "outputs": [
    {
     "data": {
      "text/plain": [
       "array([[[[8, 6, 4, 1, 4],\n",
       "         [5, 7, 1, 4, 1],\n",
       "         [9, 7, 4, 7, 4],\n",
       "         [9, 7, 3, 4, 9]],\n",
       "\n",
       "        [[1, 9, 7, 6, 9],\n",
       "         [3, 2, 6, 1, 4],\n",
       "         [6, 4, 0, 8, 1],\n",
       "         [1, 6, 6, 7, 7]],\n",
       "\n",
       "        [[7, 9, 3, 1, 4],\n",
       "         [2, 5, 5, 3, 2],\n",
       "         [2, 4, 2, 9, 4],\n",
       "         [3, 1, 7, 4, 0]]],\n",
       "\n",
       "\n",
       "       [[[0, 5, 1, 7, 7],\n",
       "         [0, 5, 1, 4, 5],\n",
       "         [4, 7, 1, 2, 9],\n",
       "         [8, 1, 8, 0, 0]],\n",
       "\n",
       "        [[1, 2, 0, 1, 9],\n",
       "         [0, 9, 6, 5, 5],\n",
       "         [4, 2, 5, 9, 6],\n",
       "         [5, 8, 2, 3, 0]],\n",
       "\n",
       "        [[5, 6, 7, 0, 3],\n",
       "         [3, 6, 0, 2, 0],\n",
       "         [1, 7, 6, 6, 4],\n",
       "         [7, 3, 2, 8, 3]]]])"
      ]
     },
     "execution_count": 22,
     "metadata": {},
     "output_type": "execute_result"
    }
   ],
   "execution_count": 22
  },
  {
   "metadata": {
    "ExecuteTime": {
     "end_time": "2025-01-09T17:16:04.179939Z",
     "start_time": "2025-01-09T17:16:04.172869Z"
    }
   },
   "cell_type": "code",
   "source": "a4[0][0][0]",
   "id": "ff84a691ee4dac50",
   "outputs": [
    {
     "data": {
      "text/plain": [
       "array([8, 6, 4, 1, 4])"
      ]
     },
     "execution_count": 23,
     "metadata": {},
     "output_type": "execute_result"
    }
   ],
   "execution_count": 23
  },
  {
   "metadata": {
    "ExecuteTime": {
     "end_time": "2025-01-09T17:17:09.628160Z",
     "start_time": "2025-01-09T17:17:09.619137Z"
    }
   },
   "cell_type": "code",
   "source": "a4[:, :, :, :3]",
   "id": "b09c2bccb5837a48",
   "outputs": [
    {
     "data": {
      "text/plain": [
       "array([[[[8, 6, 4],\n",
       "         [5, 7, 1],\n",
       "         [9, 7, 4],\n",
       "         [9, 7, 3]],\n",
       "\n",
       "        [[1, 9, 7],\n",
       "         [3, 2, 6],\n",
       "         [6, 4, 0],\n",
       "         [1, 6, 6]],\n",
       "\n",
       "        [[7, 9, 3],\n",
       "         [2, 5, 5],\n",
       "         [2, 4, 2],\n",
       "         [3, 1, 7]]],\n",
       "\n",
       "\n",
       "       [[[0, 5, 1],\n",
       "         [0, 5, 1],\n",
       "         [4, 7, 1],\n",
       "         [8, 1, 8]],\n",
       "\n",
       "        [[1, 2, 0],\n",
       "         [0, 9, 6],\n",
       "         [4, 2, 5],\n",
       "         [5, 8, 2]],\n",
       "\n",
       "        [[5, 6, 7],\n",
       "         [3, 6, 0],\n",
       "         [1, 7, 6],\n",
       "         [7, 3, 2]]]])"
      ]
     },
     "execution_count": 24,
     "metadata": {},
     "output_type": "execute_result"
    }
   ],
   "execution_count": 24
  },
  {
   "metadata": {},
   "cell_type": "markdown",
   "source": "# Manipulating and comparing arrays",
   "id": "27e5e3778aecd472"
  },
  {
   "metadata": {},
   "cell_type": "markdown",
   "source": "### Arithmetic operations",
   "id": "885941861ab5862b"
  },
  {
   "metadata": {
    "ExecuteTime": {
     "end_time": "2025-01-09T18:43:47.681275Z",
     "start_time": "2025-01-09T18:43:47.659919Z"
    }
   },
   "cell_type": "code",
   "source": [
    "a1 = np.array([1, 2, 3])\n",
    "a2 = np.array([4, 5, 6])\n",
    "a1 + a2"
   ],
   "id": "1758a39c9fec1d87",
   "outputs": [
    {
     "data": {
      "text/plain": [
       "array([5, 7, 9])"
      ]
     },
     "execution_count": 26,
     "metadata": {},
     "output_type": "execute_result"
    }
   ],
   "execution_count": 26
  },
  {
   "metadata": {
    "ExecuteTime": {
     "end_time": "2025-01-09T19:22:45.059715Z",
     "start_time": "2025-01-09T19:22:45.051356Z"
    }
   },
   "cell_type": "code",
   "source": "a1-a2",
   "id": "d67d041c5b445d68",
   "outputs": [
    {
     "data": {
      "text/plain": [
       "array([-3, -3, -3])"
      ]
     },
     "execution_count": 27,
     "metadata": {},
     "output_type": "execute_result"
    }
   ],
   "execution_count": 27
  },
  {
   "metadata": {
    "ExecuteTime": {
     "end_time": "2025-01-09T19:22:55.528190Z",
     "start_time": "2025-01-09T19:22:55.519872Z"
    }
   },
   "cell_type": "code",
   "source": "a1*a2",
   "id": "bfe8a8e4060cdaab",
   "outputs": [
    {
     "data": {
      "text/plain": [
       "array([ 4, 10, 18])"
      ]
     },
     "execution_count": 28,
     "metadata": {},
     "output_type": "execute_result"
    }
   ],
   "execution_count": 28
  },
  {
   "metadata": {
    "ExecuteTime": {
     "end_time": "2025-01-09T19:29:17.612473Z",
     "start_time": "2025-01-09T19:29:17.603051Z"
    }
   },
   "cell_type": "code",
   "source": "a1/a2",
   "id": "8b7d51e4c3816491",
   "outputs": [
    {
     "data": {
      "text/plain": [
       "array([0.25, 0.4 , 0.5 ])"
      ]
     },
     "execution_count": 29,
     "metadata": {},
     "output_type": "execute_result"
    }
   ],
   "execution_count": 29
  },
  {
   "metadata": {
    "ExecuteTime": {
     "end_time": "2025-01-11T05:04:20.677755Z",
     "start_time": "2025-01-11T05:04:20.575435Z"
    }
   },
   "cell_type": "code",
   "source": [
    "## Variance = measure of the average degree to which each number is different from the average\n",
    "np.var(a2)"
   ],
   "id": "62728e95d2a28814",
   "outputs": [
    {
     "data": {
      "text/plain": [
       "0.6666666666666666"
      ]
     },
     "execution_count": 30,
     "metadata": {},
     "output_type": "execute_result"
    }
   ],
   "execution_count": 30
  },
  {
   "metadata": {
    "ExecuteTime": {
     "end_time": "2025-01-11T05:05:55.558416Z",
     "start_time": "2025-01-11T05:05:55.517644Z"
    }
   },
   "cell_type": "code",
   "source": [
    "# Demo of std and variance\n",
    "high_var_array = np.array([1, 100, 200, 300, 4000, 5000])\n",
    "low_var_array = np.array([2, 4, 6, 8, 10, 12])\n",
    "np.var(high_var_array), np.var(low_var_array)"
   ],
   "id": "a07a88739f56df73",
   "outputs": [
    {
     "data": {
      "text/plain": [
       "(4296133.472222221, 11.666666666666666)"
      ]
     },
     "execution_count": 31,
     "metadata": {},
     "output_type": "execute_result"
    }
   ],
   "execution_count": 31
  },
  {
   "metadata": {
    "ExecuteTime": {
     "end_time": "2025-01-11T05:06:02.064388Z",
     "start_time": "2025-01-11T05:06:02.055395Z"
    }
   },
   "cell_type": "code",
   "source": "np.std(high_var_array), np.std(low_var_array)",
   "id": "fe2bbe6e9e296693",
   "outputs": [
    {
     "data": {
      "text/plain": [
       "(2072.711623024829, 3.415650255319866)"
      ]
     },
     "execution_count": 32,
     "metadata": {},
     "output_type": "execute_result"
    }
   ],
   "execution_count": 32
  },
  {
   "metadata": {
    "ExecuteTime": {
     "end_time": "2025-01-11T05:09:13.836027Z",
     "start_time": "2025-01-11T05:09:13.821413Z"
    }
   },
   "cell_type": "code",
   "source": "np.mean(high_var_array), np.mean(low_var_array)",
   "id": "11eacc873becc124",
   "outputs": [
    {
     "data": {
      "text/plain": [
       "(1600.1666666666667, 7.0)"
      ]
     },
     "execution_count": 34,
     "metadata": {},
     "output_type": "execute_result"
    }
   ],
   "execution_count": 34
  },
  {
   "metadata": {
    "ExecuteTime": {
     "end_time": "2025-01-11T05:12:06.268934Z",
     "start_time": "2025-01-11T05:12:06.130495Z"
    }
   },
   "cell_type": "code",
   "source": "plt.hist(high_var_array)",
   "id": "919d441ae8d7c586",
   "outputs": [
    {
     "data": {
      "text/plain": [
       "(array([4., 0., 0., 0., 0., 0., 0., 1., 0., 1.]),\n",
       " array([1.0000e+00, 5.0090e+02, 1.0008e+03, 1.5007e+03, 2.0006e+03,\n",
       "        2.5005e+03, 3.0004e+03, 3.5003e+03, 4.0002e+03, 4.5001e+03,\n",
       "        5.0000e+03]),\n",
       " <BarContainer object of 10 artists>)"
      ]
     },
     "execution_count": 37,
     "metadata": {},
     "output_type": "execute_result"
    },
    {
     "data": {
      "text/plain": [
       "<Figure size 640x480 with 1 Axes>"
      ],
      "image/png": "[encoded data removed]"
     },
     "metadata": {},
     "output_type": "display_data"
    }
   ],
   "execution_count": 37
  },
  {
   "metadata": {
    "ExecuteTime": {
     "end_time": "2025-01-11T05:13:11.749430Z",
     "start_time": "2025-01-11T05:13:11.649537Z"
    }
   },
   "cell_type": "code",
   "source": "plt.hist(low_var_array)",
   "id": "faa42df4c09e5403",
   "outputs": [
    {
     "data": {
      "text/plain": [
       "(array([1., 0., 1., 0., 1., 0., 1., 0., 1., 1.]),\n",
       " array([ 2.,  3.,  4.,  5.,  6.,  7.,  8.,  9., 10., 11., 12.]),\n",
       " <BarContainer object of 10 artists>)"
      ]
     },
     "execution_count": 38,
     "metadata": {},
     "output_type": "execute_result"
    },
    {
     "data": {
      "text/plain": [
       "<Figure size 640x480 with 1 Axes>"
      ],
      "image/png": "[encoded data removed]"
     },
     "metadata": {},
     "output_type": "display_data"
    }
   ],
   "execution_count": 38
  },
  {
   "metadata": {},
   "cell_type": "markdown",
   "source": "# RESHAPE",
   "id": "64f639eb27f201b3"
  },
  {
   "metadata": {
    "ExecuteTime": {
     "end_time": "2025-01-11T12:39:51.635146Z",
     "start_time": "2025-01-11T12:39:51.596064Z"
    }
   },
   "cell_type": "code",
   "source": [
    "a2 = np.random.randint(10, size=(2,3))\n",
    "a3 = np.random.randint(10, size=(3,3))"
   ],
   "id": "cee788f3245e4160",
   "outputs": [],
   "execution_count": 45
  },
  {
   "metadata": {
    "ExecuteTime": {
     "end_time": "2025-01-11T12:49:12.938529Z",
     "start_time": "2025-01-11T12:49:12.905894Z"
    }
   },
   "cell_type": "code",
   "source": "a2",
   "id": "a98ea122473d5525",
   "outputs": [
    {
     "data": {
      "text/plain": [
       "array([[3, 1, 4],\n",
       "       [6, 0, 4]])"
      ]
     },
     "execution_count": 48,
     "metadata": {},
     "output_type": "execute_result"
    }
   ],
   "execution_count": 48
  },
  {
   "metadata": {
    "ExecuteTime": {
     "end_time": "2025-01-11T12:50:59.057659Z",
     "start_time": "2025-01-11T12:50:59.042919Z"
    }
   },
   "cell_type": "code",
   "source": "a3",
   "id": "6f289d5ae364bf7d",
   "outputs": [
    {
     "data": {
      "text/plain": [
       "array([[4, 3, 5],\n",
       "       [1, 0, 6],\n",
       "       [7, 9, 4]])"
      ]
     },
     "execution_count": 50,
     "metadata": {},
     "output_type": "execute_result"
    }
   ],
   "execution_count": 50
  },
  {
   "metadata": {
    "ExecuteTime": {
     "end_time": "2025-01-11T12:51:09.909154Z",
     "start_time": "2025-01-11T12:51:09.895070Z"
    }
   },
   "cell_type": "code",
   "source": [
    "a2_reshape = a2.reshape(2,3,1)\n",
    "a2_reshape"
   ],
   "id": "9eb211c710e65574",
   "outputs": [
    {
     "data": {
      "text/plain": [
       "array([[[3],\n",
       "        [1],\n",
       "        [4]],\n",
       "\n",
       "       [[6],\n",
       "        [0],\n",
       "        [4]]])"
      ]
     },
     "execution_count": 52,
     "metadata": {},
     "output_type": "execute_result"
    }
   ],
   "execution_count": 52
  },
  {
   "metadata": {
    "ExecuteTime": {
     "end_time": "2025-01-11T12:51:46.628088Z",
     "start_time": "2025-01-11T12:51:46.618828Z"
    }
   },
   "cell_type": "code",
   "source": "a2_reshape*a3",
   "id": "ffc58e72171c7ec1",
   "outputs": [
    {
     "data": {
      "text/plain": [
       "array([[[12,  9, 15],\n",
       "        [ 1,  0,  6],\n",
       "        [28, 36, 16]],\n",
       "\n",
       "       [[24, 18, 30],\n",
       "        [ 0,  0,  0],\n",
       "        [28, 36, 16]]])"
      ]
     },
     "execution_count": 56,
     "metadata": {},
     "output_type": "execute_result"
    }
   ],
   "execution_count": 56
  },
  {
   "metadata": {
    "ExecuteTime": {
     "end_time": "2025-01-11T12:53:15.508712Z",
     "start_time": "2025-01-11T12:53:15.498447Z"
    }
   },
   "cell_type": "code",
   "source": "a2_reshape.shape, a3.shape, (a2_reshape*a3).shape",
   "id": "5a2943a81e5e4dd8",
   "outputs": [
    {
     "data": {
      "text/plain": [
       "((2, 3, 1), (3, 3), (2, 3, 3))"
      ]
     },
     "execution_count": 58,
     "metadata": {},
     "output_type": "execute_result"
    }
   ],
   "execution_count": 58
  },
  {
   "metadata": {},
   "cell_type": "markdown",
   "source": "# TRANSPOSE",
   "id": "eb15869bd25db297"
  },
  {
   "metadata": {
    "ExecuteTime": {
     "end_time": "2025-01-11T12:57:09.964181Z",
     "start_time": "2025-01-11T12:57:09.954892Z"
    }
   },
   "cell_type": "code",
   "source": "a2.T",
   "id": "19af414a85e5a93e",
   "outputs": [
    {
     "data": {
      "text/plain": [
       "array([[3, 6],\n",
       "       [1, 0],\n",
       "       [4, 4]])"
      ]
     },
     "execution_count": 59,
     "metadata": {},
     "output_type": "execute_result"
    }
   ],
   "execution_count": 59
  },
  {
   "metadata": {
    "ExecuteTime": {
     "end_time": "2025-01-11T12:58:02.801138Z",
     "start_time": "2025-01-11T12:58:02.792518Z"
    }
   },
   "cell_type": "code",
   "source": "a3.shape",
   "id": "83315ede78bfc27d",
   "outputs": [
    {
     "data": {
      "text/plain": [
       "(3, 3)"
      ]
     },
     "execution_count": 60,
     "metadata": {},
     "output_type": "execute_result"
    }
   ],
   "execution_count": 60
  },
  {
   "metadata": {
    "ExecuteTime": {
     "end_time": "2025-01-11T12:58:16.103936Z",
     "start_time": "2025-01-11T12:58:16.083731Z"
    }
   },
   "cell_type": "code",
   "source": "a3.T.shape",
   "id": "488597e701446686",
   "outputs": [
    {
     "data": {
      "text/plain": [
       "(3, 3)"
      ]
     },
     "execution_count": 61,
     "metadata": {},
     "output_type": "execute_result"
    }
   ],
   "execution_count": 61
  },
  {
   "metadata": {
    "ExecuteTime": {
     "end_time": "2025-01-11T13:12:56.060346Z",
     "start_time": "2025-01-11T13:12:56.031598Z"
    }
   },
   "cell_type": "code",
   "source": "(a2_reshape*a3).T",
   "id": "981040e4a176c941",
   "outputs": [
    {
     "data": {
      "text/plain": [
       "array([[[12, 24],\n",
       "        [ 1,  0],\n",
       "        [28, 28]],\n",
       "\n",
       "       [[ 9, 18],\n",
       "        [ 0,  0],\n",
       "        [36, 36]],\n",
       "\n",
       "       [[15, 30],\n",
       "        [ 6,  0],\n",
       "        [16, 16]]])"
      ]
     },
     "execution_count": 65,
     "metadata": {},
     "output_type": "execute_result"
    }
   ],
   "execution_count": 65
  },
  {
   "metadata": {},
   "cell_type": "markdown",
   "source": "# DOT PRODUCT",
   "id": "2d41756849146c57"
  },
  {
   "metadata": {
    "ExecuteTime": {
     "end_time": "2025-01-11T13:16:43.198089Z",
     "start_time": "2025-01-11T13:16:43.186571Z"
    }
   },
   "cell_type": "code",
   "source": [
    "mat1 = np.random.randint(10, size=(5,3))\n",
    "mat2 = np.random.randint(10, size=(5,3))"
   ],
   "id": "6ca53e3fbe81163c",
   "outputs": [],
   "execution_count": 68
  },
  {
   "metadata": {
    "ExecuteTime": {
     "end_time": "2025-01-11T13:16:43.557690Z",
     "start_time": "2025-01-11T13:16:43.554243Z"
    }
   },
   "cell_type": "code",
   "source": "mat1",
   "id": "454da95ed4187e52",
   "outputs": [
    {
     "data": {
      "text/plain": [
       "array([[8, 8, 7],\n",
       "       [5, 0, 0],\n",
       "       [1, 8, 8],\n",
       "       [0, 0, 8],\n",
       "       [3, 7, 3]])"
      ]
     },
     "execution_count": 69,
     "metadata": {},
     "output_type": "execute_result"
    }
   ],
   "execution_count": 69
  },
  {
   "metadata": {
    "ExecuteTime": {
     "end_time": "2025-01-11T13:16:44.035633Z",
     "start_time": "2025-01-11T13:16:44.031592Z"
    }
   },
   "cell_type": "code",
   "source": "mat2",
   "id": "510e1404f1505e95",
   "outputs": [
    {
     "data": {
      "text/plain": [
       "array([[2, 9, 3],\n",
       "       [6, 8, 8],\n",
       "       [7, 7, 8],\n",
       "       [5, 0, 7],\n",
       "       [1, 8, 7]])"
      ]
     },
     "execution_count": 70,
     "metadata": {},
     "output_type": "execute_result"
    }
   ],
   "execution_count": 70
  },
  {
   "metadata": {
    "ExecuteTime": {
     "end_time": "2025-01-11T13:17:13.664544Z",
     "start_time": "2025-01-11T13:17:13.638958Z"
    }
   },
   "cell_type": "code",
   "source": [
    "# Element wise multiplication\n",
    "mat1*mat2"
   ],
   "id": "6aaed6c9a615fb4c",
   "outputs": [
    {
     "data": {
      "text/plain": [
       "array([[16, 72, 21],\n",
       "       [30,  0,  0],\n",
       "       [ 7, 56, 64],\n",
       "       [ 0,  0, 56],\n",
       "       [ 3, 56, 21]])"
      ]
     },
     "execution_count": 71,
     "metadata": {},
     "output_type": "execute_result"
    }
   ],
   "execution_count": 71
  },
  {
   "metadata": {
    "ExecuteTime": {
     "end_time": "2025-01-11T13:17:53.852910Z",
     "start_time": "2025-01-11T13:17:53.804772Z"
    }
   },
   "cell_type": "code",
   "source": [
    "# Matrix multiplication\n",
    "mat1.dot(mat2)"
   ],
   "id": "10d3fd71d3d0238",
   "outputs": [
    {
     "ename": "ValueError",
     "evalue": "shapes (5,3) and (5,3) not aligned: 3 (dim 1) != 5 (dim 0)",
     "output_type": "error",
     "traceback": [
      "\u001B[0;31m---------------------------------------------------------------------------\u001B[0m",
      "\u001B[0;31mValueError\u001B[0m                                Traceback (most recent call last)",
      "Cell \u001B[0;32mIn[73], line 2\u001B[0m\n\u001B[1;32m      1\u001B[0m \u001B[38;5;66;03m# Matrix multiplication\u001B[39;00m\n\u001B[0;32m----> 2\u001B[0m \u001B[43mmat1\u001B[49m\u001B[38;5;241;43m.\u001B[39;49m\u001B[43mdot\u001B[49m\u001B[43m(\u001B[49m\u001B[43mmat2\u001B[49m\u001B[43m)\u001B[49m\n",
      "\u001B[0;31mValueError\u001B[0m: shapes (5,3) and (5,3) not aligned: 3 (dim 1) != 5 (dim 0)"
     ]
    }
   ],
   "execution_count": 73
  },
  {
   "metadata": {
    "ExecuteTime": {
     "end_time": "2025-01-11T13:21:24.797281Z",
     "start_time": "2025-01-11T13:21:24.783900Z"
    }
   },
   "cell_type": "code",
   "source": "mat1.T.dot(mat2)",
   "id": "ec027442fc1e3ac2",
   "outputs": [
    {
     "data": {
      "text/plain": [
       "array([[ 56, 143,  93],\n",
       "       [ 79, 184, 137],\n",
       "       [113, 143, 162]])"
      ]
     },
     "execution_count": 75,
     "metadata": {},
     "output_type": "execute_result"
    }
   ],
   "execution_count": 75
  },
  {
   "metadata": {},
   "cell_type": "markdown",
   "source": "# DOT PRODUCT EXAMPLE (nut butter sale)",
   "id": "247ec8510fc306a2"
  },
  {
   "metadata": {
    "ExecuteTime": {
     "end_time": "2025-01-11T13:28:12.068998Z",
     "start_time": "2025-01-11T13:28:12.019226Z"
    }
   },
   "cell_type": "code",
   "source": [
    "# number of jars sold from monday to friday\n",
    "sales_amounts = np.random.randint(20, size=(5,3))\n",
    "sales_amounts"
   ],
   "id": "bdb69ce6a30a33b4",
   "outputs": [
    {
     "data": {
      "text/plain": [
       "array([[13,  8,  9],\n",
       "       [ 6,  6, 17],\n",
       "       [ 6, 10, 19],\n",
       "       [ 9, 17,  1],\n",
       "       [10, 13,  4]])"
      ]
     },
     "execution_count": 76,
     "metadata": {},
     "output_type": "execute_result"
    }
   ],
   "execution_count": 76
  },
  {
   "metadata": {
    "ExecuteTime": {
     "end_time": "2025-01-11T13:29:23.554437Z",
     "start_time": "2025-01-11T13:29:23.492497Z"
    }
   },
   "cell_type": "code",
   "source": [
    "# create weekly_sales dataframe\n",
    "weekly_sales = pd.DataFrame(sales_amounts, index = [\"Mon\", \"Tue\", \"Wed\", \"Thu\", \"Fri\"], columns = [\"Almond Butter\", \"Peanut Butter\", \"Cashew Butter\"])\n",
    "weekly_sales"
   ],
   "id": "192af4a3a57ce6c1",
   "outputs": [
    {
     "data": {
      "text/plain": [
       "     Almond Butter  Peanut Butter  Cashew Butter\n",
       "Mon             13              8              9\n",
       "Tue              6              6             17\n",
       "Wed              6             10             19\n",
       "Thu              9             17              1\n",
       "Fri             10             13              4"
      ],
      "text/html": [
       "<div>\n",
       "<style scoped>\n",
       "    .dataframe tbody tr th:only-of-type {\n",
       "        vertical-align: middle;\n",
       "    }\n",
       "\n",
       "    .dataframe tbody tr th {\n",
       "        vertical-align: top;\n",
       "    }\n",
       "\n",
       "    .dataframe thead th {\n",
       "        text-align: right;\n",
       "    }\n",
       "</style>\n",
       "<table border=\"1\" class=\"dataframe\">\n",
       "  <thead>\n",
       "    <tr style=\"text-align: right;\">\n",
       "      <th></th>\n",
       "      <th>Almond Butter</th>\n",
       "      <th>Peanut Butter</th>\n",
       "      <th>Cashew Butter</th>\n",
       "    </tr>\n",
       "  </thead>\n",
       "  <tbody>\n",
       "    <tr>\n",
       "      <th>Mon</th>\n",
       "      <td>13</td>\n",
       "      <td>8</td>\n",
       "      <td>9</td>\n",
       "    </tr>\n",
       "    <tr>\n",
       "      <th>Tue</th>\n",
       "      <td>6</td>\n",
       "      <td>6</td>\n",
       "      <td>17</td>\n",
       "    </tr>\n",
       "    <tr>\n",
       "      <th>Wed</th>\n",
       "      <td>6</td>\n",
       "      <td>10</td>\n",
       "      <td>19</td>\n",
       "    </tr>\n",
       "    <tr>\n",
       "      <th>Thu</th>\n",
       "      <td>9</td>\n",
       "      <td>17</td>\n",
       "      <td>1</td>\n",
       "    </tr>\n",
       "    <tr>\n",
       "      <th>Fri</th>\n",
       "      <td>10</td>\n",
       "      <td>13</td>\n",
       "      <td>4</td>\n",
       "    </tr>\n",
       "  </tbody>\n",
       "</table>\n",
       "</div>"
      ]
     },
     "execution_count": 77,
     "metadata": {},
     "output_type": "execute_result"
    }
   ],
   "execution_count": 77
  },
  {
   "metadata": {
    "ExecuteTime": {
     "end_time": "2025-01-11T13:30:41.910249Z",
     "start_time": "2025-01-11T13:30:41.899050Z"
    }
   },
   "cell_type": "code",
   "source": [
    "# create prices array\n",
    "prices = np.array([10, 8, 12])\n",
    "prices"
   ],
   "id": "f083e664b0eeb959",
   "outputs": [
    {
     "data": {
      "text/plain": [
       "array([10,  8, 12])"
      ]
     },
     "execution_count": 78,
     "metadata": {},
     "output_type": "execute_result"
    }
   ],
   "execution_count": 78
  },
  {
   "metadata": {
    "ExecuteTime": {
     "end_time": "2025-01-11T13:31:14.448392Z",
     "start_time": "2025-01-11T13:31:14.419979Z"
    }
   },
   "cell_type": "code",
   "source": [
    "# create cookie_prices dataframe\n",
    "butter_prices = pd.DataFrame(prices, index = [\"Almond Butter\", \"Peanut Butter\", \"Cashew Butter\"], columns = [\"Price\"])\n"
   ],
   "id": "3af70773f6280916",
   "outputs": [
    {
     "data": {
      "text/plain": [
       "               Price\n",
       "Almond Butter     10\n",
       "Peanut Butter      8\n",
       "Cashew Butter     12"
      ],
      "text/html": [
       "<div>\n",
       "<style scoped>\n",
       "    .dataframe tbody tr th:only-of-type {\n",
       "        vertical-align: middle;\n",
       "    }\n",
       "\n",
       "    .dataframe tbody tr th {\n",
       "        vertical-align: top;\n",
       "    }\n",
       "\n",
       "    .dataframe thead th {\n",
       "        text-align: right;\n",
       "    }\n",
       "</style>\n",
       "<table border=\"1\" class=\"dataframe\">\n",
       "  <thead>\n",
       "    <tr style=\"text-align: right;\">\n",
       "      <th></th>\n",
       "      <th>Price</th>\n",
       "    </tr>\n",
       "  </thead>\n",
       "  <tbody>\n",
       "    <tr>\n",
       "      <th>Almond Butter</th>\n",
       "      <td>10</td>\n",
       "    </tr>\n",
       "    <tr>\n",
       "      <th>Peanut Butter</th>\n",
       "      <td>8</td>\n",
       "    </tr>\n",
       "    <tr>\n",
       "      <th>Cashew Butter</th>\n",
       "      <td>12</td>\n",
       "    </tr>\n",
       "  </tbody>\n",
       "</table>\n",
       "</div>"
      ]
     },
     "execution_count": 80,
     "metadata": {},
     "output_type": "execute_result"
    }
   ],
   "execution_count": 80
  },
  {
   "metadata": {
    "ExecuteTime": {
     "end_time": "2025-01-11T13:34:08.624736Z",
     "start_time": "2025-01-11T13:34:08.602827Z"
    }
   },
   "cell_type": "code",
   "source": [
    "total_sales = weekly_sales.dot(butter_prices)\n",
    "total_sales"
   ],
   "id": "4d37d224191d1166",
   "outputs": [
    {
     "data": {
      "text/plain": [
       "     Price\n",
       "Mon    302\n",
       "Tue    312\n",
       "Wed    368\n",
       "Thu    238\n",
       "Fri    252"
      ],
      "text/html": [
       "<div>\n",
       "<style scoped>\n",
       "    .dataframe tbody tr th:only-of-type {\n",
       "        vertical-align: middle;\n",
       "    }\n",
       "\n",
       "    .dataframe tbody tr th {\n",
       "        vertical-align: top;\n",
       "    }\n",
       "\n",
       "    .dataframe thead th {\n",
       "        text-align: right;\n",
       "    }\n",
       "</style>\n",
       "<table border=\"1\" class=\"dataframe\">\n",
       "  <thead>\n",
       "    <tr style=\"text-align: right;\">\n",
       "      <th></th>\n",
       "      <th>Price</th>\n",
       "    </tr>\n",
       "  </thead>\n",
       "  <tbody>\n",
       "    <tr>\n",
       "      <th>Mon</th>\n",
       "      <td>302</td>\n",
       "    </tr>\n",
       "    <tr>\n",
       "      <th>Tue</th>\n",
       "      <td>312</td>\n",
       "    </tr>\n",
       "    <tr>\n",
       "      <th>Wed</th>\n",
       "      <td>368</td>\n",
       "    </tr>\n",
       "    <tr>\n",
       "      <th>Thu</th>\n",
       "      <td>238</td>\n",
       "    </tr>\n",
       "    <tr>\n",
       "      <th>Fri</th>\n",
       "      <td>252</td>\n",
       "    </tr>\n",
       "  </tbody>\n",
       "</table>\n",
       "</div>"
      ]
     },
     "execution_count": 83,
     "metadata": {},
     "output_type": "execute_result"
    }
   ],
   "execution_count": 83
  },
  {
   "metadata": {
    "ExecuteTime": {
     "end_time": "2025-01-11T13:43:36.048606Z",
     "start_time": "2025-01-11T13:43:35.960997Z"
    }
   },
   "cell_type": "code",
   "source": [
    "weekly_sales[\"Total Sales\"] = total_sales\n",
    "weekly_sales"
   ],
   "id": "3bb4e1b0cc385f3a",
   "outputs": [
    {
     "data": {
      "text/plain": [
       "     Almond Butter  Peanut Butter  Cashew Butter  Total Sales\n",
       "Mon             13              8              9          302\n",
       "Tue              6              6             17          312\n",
       "Wed              6             10             19          368\n",
       "Thu              9             17              1          238\n",
       "Fri             10             13              4          252"
      ],
      "text/html": [
       "<div>\n",
       "<style scoped>\n",
       "    .dataframe tbody tr th:only-of-type {\n",
       "        vertical-align: middle;\n",
       "    }\n",
       "\n",
       "    .dataframe tbody tr th {\n",
       "        vertical-align: top;\n",
       "    }\n",
       "\n",
       "    .dataframe thead th {\n",
       "        text-align: right;\n",
       "    }\n",
       "</style>\n",
       "<table border=\"1\" class=\"dataframe\">\n",
       "  <thead>\n",
       "    <tr style=\"text-align: right;\">\n",
       "      <th></th>\n",
       "      <th>Almond Butter</th>\n",
       "      <th>Peanut Butter</th>\n",
       "      <th>Cashew Butter</th>\n",
       "      <th>Total Sales</th>\n",
       "    </tr>\n",
       "  </thead>\n",
       "  <tbody>\n",
       "    <tr>\n",
       "      <th>Mon</th>\n",
       "      <td>13</td>\n",
       "      <td>8</td>\n",
       "      <td>9</td>\n",
       "      <td>302</td>\n",
       "    </tr>\n",
       "    <tr>\n",
       "      <th>Tue</th>\n",
       "      <td>6</td>\n",
       "      <td>6</td>\n",
       "      <td>17</td>\n",
       "      <td>312</td>\n",
       "    </tr>\n",
       "    <tr>\n",
       "      <th>Wed</th>\n",
       "      <td>6</td>\n",
       "      <td>10</td>\n",
       "      <td>19</td>\n",
       "      <td>368</td>\n",
       "    </tr>\n",
       "    <tr>\n",
       "      <th>Thu</th>\n",
       "      <td>9</td>\n",
       "      <td>17</td>\n",
       "      <td>1</td>\n",
       "      <td>238</td>\n",
       "    </tr>\n",
       "    <tr>\n",
       "      <th>Fri</th>\n",
       "      <td>10</td>\n",
       "      <td>13</td>\n",
       "      <td>4</td>\n",
       "      <td>252</td>\n",
       "    </tr>\n",
       "  </tbody>\n",
       "</table>\n",
       "</div>"
      ]
     },
     "execution_count": 84,
     "metadata": {},
     "output_type": "execute_result"
    }
   ],
   "execution_count": 84
  },
  {
   "metadata": {},
   "cell_type": "markdown",
   "source": "# Comparison Operators",
   "id": "21c59a5b4a69e604"
  },
  {
   "metadata": {
    "ExecuteTime": {
     "end_time": "2025-01-11T13:45:29.450680Z",
     "start_time": "2025-01-11T13:45:29.396324Z"
    }
   },
   "cell_type": "code",
   "source": "a1",
   "id": "643aa8f18dcd47e0",
   "outputs": [
    {
     "data": {
      "text/plain": [
       "array([1, 2, 3])"
      ]
     },
     "execution_count": 85,
     "metadata": {},
     "output_type": "execute_result"
    }
   ],
   "execution_count": 85
  },
  {
   "metadata": {
    "ExecuteTime": {
     "end_time": "2025-01-11T13:45:33.199103Z",
     "start_time": "2025-01-11T13:45:33.170204Z"
    }
   },
   "cell_type": "code",
   "source": "a2",
   "id": "3abf5d02c64b1b19",
   "outputs": [
    {
     "data": {
      "text/plain": [
       "array([[3, 1, 4],\n",
       "       [6, 0, 4]])"
      ]
     },
     "execution_count": 86,
     "metadata": {},
     "output_type": "execute_result"
    }
   ],
   "execution_count": 86
  },
  {
   "metadata": {
    "ExecuteTime": {
     "end_time": "2025-01-11T13:45:50.297847Z",
     "start_time": "2025-01-11T13:45:50.275476Z"
    }
   },
   "cell_type": "code",
   "source": "a1 > a3",
   "id": "5fe3b786c4f37611",
   "outputs": [
    {
     "data": {
      "text/plain": [
       "array([[False, False, False],\n",
       "       [False,  True, False],\n",
       "       [False, False, False]])"
      ]
     },
     "execution_count": 87,
     "metadata": {},
     "output_type": "execute_result"
    }
   ],
   "execution_count": 87
  },
  {
   "metadata": {
    "ExecuteTime": {
     "end_time": "2025-01-11T13:46:23.279374Z",
     "start_time": "2025-01-11T13:46:23.273204Z"
    }
   },
   "cell_type": "code",
   "source": "a1 < 5",
   "id": "c7b7151e00ceebb1",
   "outputs": [
    {
     "data": {
      "text/plain": [
       "array([ True,  True,  True])"
      ]
     },
     "execution_count": 88,
     "metadata": {},
     "output_type": "execute_result"
    }
   ],
   "execution_count": 88
  },
  {
   "metadata": {
    "ExecuteTime": {
     "end_time": "2025-01-11T13:46:34.134660Z",
     "start_time": "2025-01-11T13:46:34.128128Z"
    }
   },
   "cell_type": "code",
   "source": "a1 == a1",
   "id": "25ea582b32ea6d2c",
   "outputs": [
    {
     "data": {
      "text/plain": [
       "array([ True,  True,  True])"
      ]
     },
     "execution_count": 89,
     "metadata": {},
     "output_type": "execute_result"
    }
   ],
   "execution_count": 89
  },
  {
   "metadata": {
    "ExecuteTime": {
     "end_time": "2025-01-11T13:46:44.600752Z",
     "start_time": "2025-01-11T13:46:44.588125Z"
    }
   },
   "cell_type": "code",
   "source": "a1 == a2",
   "id": "251308f2e98e7089",
   "outputs": [
    {
     "data": {
      "text/plain": [
       "array([[False, False, False],\n",
       "       [False, False, False]])"
      ]
     },
     "execution_count": 90,
     "metadata": {},
     "output_type": "execute_result"
    }
   ],
   "execution_count": 90
  },
  {
   "metadata": {
    "ExecuteTime": {
     "end_time": "2025-01-11T13:56:40.575450Z",
     "start_time": "2025-01-11T13:56:40.548630Z"
    }
   },
   "cell_type": "code",
   "source": "random_array",
   "id": "42b6b9dbb1ef608b",
   "outputs": [
    {
     "data": {
      "text/plain": [
       "array([[2, 0, 2, 9, 1],\n",
       "       [5, 9, 5, 0, 6],\n",
       "       [1, 5, 3, 3, 1]])"
      ]
     },
     "execution_count": 91,
     "metadata": {},
     "output_type": "execute_result"
    }
   ],
   "execution_count": 91
  },
  {
   "metadata": {
    "ExecuteTime": {
     "end_time": "2025-01-11T13:57:17.128134Z",
     "start_time": "2025-01-11T13:57:17.116862Z"
    }
   },
   "cell_type": "code",
   "source": [
    "random_array.sort()\n",
    "random_array"
   ],
   "id": "2b9acd610103e7b5",
   "outputs": [
    {
     "data": {
      "text/plain": [
       "array([[0, 1, 2, 2, 9],\n",
       "       [0, 5, 5, 6, 9],\n",
       "       [1, 1, 3, 3, 5]])"
      ]
     },
     "execution_count": 94,
     "metadata": {},
     "output_type": "execute_result"
    }
   ],
   "execution_count": 94
  },
  {
   "metadata": {
    "ExecuteTime": {
     "end_time": "2025-01-11T13:58:54.704392Z",
     "start_time": "2025-01-11T13:58:54.696417Z"
    }
   },
   "cell_type": "code",
   "source": "np.argmin(a1)",
   "id": "cf06c491de444bfa",
   "outputs": [
    {
     "data": {
      "text/plain": [
       "0"
      ]
     },
     "execution_count": 97,
     "metadata": {},
     "output_type": "execute_result"
    }
   ],
   "execution_count": 97
  },
  {
   "metadata": {
    "ExecuteTime": {
     "end_time": "2025-01-11T14:01:40.845336Z",
     "start_time": "2025-01-11T14:01:40.825043Z"
    }
   },
   "cell_type": "code",
   "source": [
    "#axis=0: This argument specifies that you want to find the maximum value along the columns (vertical axis).\n",
    "np.argmax(random_array, axis=0)"
   ],
   "id": "9568e75a7bd7e0d0",
   "outputs": [
    {
     "data": {
      "text/plain": [
       "array([2, 1, 1, 1, 0])"
      ]
     },
     "execution_count": 100,
     "metadata": {},
     "output_type": "execute_result"
    }
   ],
   "execution_count": 100
  },
  {
   "metadata": {
    "ExecuteTime": {
     "end_time": "2025-01-11T14:05:53.559955Z",
     "start_time": "2025-01-11T14:05:53.548904Z"
    }
   },
   "cell_type": "code",
   "source": [
    "# axis=1: This argument specifies that you want to find the maximum value along the rows (horizontal axis).\n",
    "np.argmax(random_array, axis=1)"
   ],
   "id": "14a8c0428b6fba93",
   "outputs": [
    {
     "data": {
      "text/plain": [
       "array([4, 4, 4])"
      ]
     },
     "execution_count": 101,
     "metadata": {},
     "output_type": "execute_result"
    }
   ],
   "execution_count": 101
  },
  {
   "metadata": {
    "ExecuteTime": {
     "end_time": "2025-01-11T14:06:26.346408Z",
     "start_time": "2025-01-11T14:06:26.338536Z"
    }
   },
   "cell_type": "code",
   "source": [
    "# no axis: This argument specifies that you want to find the maximum value in the entire array flattened\n",
    "np.argmax(random_array)"
   ],
   "id": "986ab5547303486b",
   "outputs": [
    {
     "data": {
      "text/plain": [
       "4"
      ]
     },
     "execution_count": 102,
     "metadata": {},
     "output_type": "execute_result"
    }
   ],
   "execution_count": 102
  },
  {
   "metadata": {},
   "cell_type": "markdown",
   "source": " # IMAGE TO NUMBER",
   "id": "c1570b1873e766b5"
  },
  {
   "metadata": {
    "ExecuteTime": {
     "end_time": "2025-01-11T14:18:56.449670Z",
     "start_time": "2025-01-11T14:18:56.174306Z"
    }
   },
   "cell_type": "code",
   "source": [
    "# show image\n",
    "from matplotlib.image import imread\n",
    "panda = imread(\"panda.png\")\n",
    "print(type(panda))\n",
    "panda.size, panda.shape, panda.ndim"
   ],
   "id": "e6a51d0668f0f79f",
   "outputs": [
    {
     "name": "stdout",
     "output_type": "stream",
     "text": [
      "<class 'numpy.ndarray'>\n"
     ]
    },
    {
     "data": {
      "text/plain": [
       "(24465000, (2330, 3500, 3), 3)"
      ]
     },
     "execution_count": 107,
     "metadata": {},
     "output_type": "execute_result"
    }
   ],
   "execution_count": 107
  },
  {
   "metadata": {},
   "cell_type": "code",
   "outputs": [],
   "execution_count": null,
   "source": "panda.size, panda.shape, panda.ndim",
   "id": "804856f9e2ae4949"
  },
  {
   "metadata": {},
   "cell_type": "code",
   "outputs": [],
   "execution_count": null,
   "source": "panda[:5]",
   "id": "b950105bcaddd8a2"
  },
  {
   "metadata": {},
   "cell_type": "code",
   "outputs": [],
   "execution_count": null,
   "source": [
    "# show image\n",
    "car = imread(\"numpy_images/car.png\")\n",
    "print(type(car))\n",
    "car"
   ],
   "id": "c397e9a2b6c328ea"
  },
  {
   "metadata": {},
   "cell_type": "code",
   "outputs": [],
   "execution_count": null,
   "source": "car.size, car.shape, car.ndim",
   "id": "a3dc866857fb5adb"
  },
  {
   "metadata": {},
   "cell_type": "code",
   "outputs": [],
   "execution_count": null,
   "source": "car[:5]",
   "id": "9f75bcb62e69714c"
  },
  {
   "metadata": {},
   "cell_type": "code",
   "outputs": [],
   "execution_count": null,
   "source": "",
   "id": "afdaea5becda26de"
  }
 ],
 "metadata": {
  "kernelspec": {
   "display_name": "Python 3 (ipykernel)",
   "language": "python",
   "name": "python3"
  },
  "language_info": {
   "codemirror_mode": {
    "name": "ipython",
    "version": 3
   },
   "file_extension": ".py",
   "mimetype": "text/x-python",
   "name": "python",
   "nbconvert_exporter": "python",
   "pygments_lexer": "ipython3",
   "version": "3.11.0"
  }
 },
 "nbformat": 5,
 "nbformat_minor": 9
}
