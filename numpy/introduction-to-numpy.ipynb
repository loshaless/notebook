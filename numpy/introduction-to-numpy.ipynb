{
 "cells": [
  {
   "cell_type": "code",
   "id": "85be2ed1c209ba5f",
   "metadata": {
    "ExecuteTime": {
     "end_time": "2025-01-08T01:49:33.782635Z",
     "start_time": "2025-01-08T01:49:33.629896Z"
    }
   },
   "source": [
    "import numpy as np\n",
    "from numpy.matlib import zeros"
   ],
   "outputs": [],
   "execution_count": 2
  },
  {
   "cell_type": "markdown",
   "id": "34e41b2d427e9fef",
   "metadata": {},
   "source": [
    "## Data Types and Attributes"
   ]
  },
  {
   "cell_type": "code",
   "id": "c0eaa4ed8abd9961",
   "metadata": {
    "ExecuteTime": {
     "end_time": "2025-01-08T01:49:33.796372Z",
     "start_time": "2025-01-08T01:49:33.790884Z"
    }
   },
   "source": [
    "# numpy main data type is ndarray\n",
    "a1 = np.array([1, 2, 3])\n",
    "a1"
   ],
   "outputs": [
    {
     "data": {
      "text/plain": [
       "array([1, 2, 3])"
      ]
     },
     "execution_count": 3,
     "metadata": {},
     "output_type": "execute_result"
    }
   ],
   "execution_count": 3
  },
  {
   "cell_type": "code",
   "id": "be450df1f9a6a260",
   "metadata": {
    "ExecuteTime": {
     "end_time": "2025-01-08T01:49:33.878152Z",
     "start_time": "2025-01-08T01:49:33.865966Z"
    }
   },
   "source": [
    "type(a1)"
   ],
   "outputs": [
    {
     "data": {
      "text/plain": [
       "numpy.ndarray"
      ]
     },
     "execution_count": 4,
     "metadata": {},
     "output_type": "execute_result"
    }
   ],
   "execution_count": 4
  },
  {
   "cell_type": "code",
   "id": "dd037a07f836c218",
   "metadata": {
    "ExecuteTime": {
     "end_time": "2025-01-08T01:49:34.044270Z",
     "start_time": "2025-01-08T01:49:34.037840Z"
    }
   },
   "source": [
    "a2 = np.array(\n",
    "    [\n",
    "        [1, 2, 3],\n",
    "        [4, 5, 6]\n",
    "    ]\n",
    ")\n",
    "a2"
   ],
   "outputs": [
    {
     "data": {
      "text/plain": [
       "array([[1, 2, 3],\n",
       "       [4, 5, 6]])"
      ]
     },
     "execution_count": 5,
     "metadata": {},
     "output_type": "execute_result"
    }
   ],
   "execution_count": 5
  },
  {
   "cell_type": "code",
   "id": "eed7b88c9d03bbb9",
   "metadata": {
    "ExecuteTime": {
     "end_time": "2025-01-08T01:49:34.524732Z",
     "start_time": "2025-01-08T01:49:34.521153Z"
    }
   },
   "source": [
    "a3 = np.array(\n",
    "    [\n",
    "        [\n",
    "            [1, 2, 3],\n",
    "            [4, 5, 6]\n",
    "        ],\n",
    "        [\n",
    "            [7, 8, 9],\n",
    "            [10, 11, 12]\n",
    "        ],\n",
    "        \n",
    "        [\n",
    "           [13, 14, 15],\n",
    "            [16, 17, 18]\n",
    "        ]\n",
    "    ]\n",
    ")\n",
    "\n",
    "a3.shape"
   ],
   "outputs": [
    {
     "data": {
      "text/plain": [
       "(3, 2, 3)"
      ]
     },
     "execution_count": 6,
     "metadata": {},
     "output_type": "execute_result"
    }
   ],
   "execution_count": 6
  },
  {
   "cell_type": "code",
   "id": "c73517d7ada54bc3",
   "metadata": {
    "ExecuteTime": {
     "end_time": "2025-01-08T01:49:34.628140Z",
     "start_time": "2025-01-08T01:49:34.621856Z"
    }
   },
   "source": [
    "a1.ndim, a2.ndim, a3.ndim"
   ],
   "outputs": [
    {
     "data": {
      "text/plain": [
       "(1, 2, 3)"
      ]
     },
     "execution_count": 7,
     "metadata": {},
     "output_type": "execute_result"
    }
   ],
   "execution_count": 7
  },
  {
   "cell_type": "code",
   "id": "ba1da70c1940b6c3",
   "metadata": {
    "ExecuteTime": {
     "end_time": "2025-01-08T01:49:34.658373Z",
     "start_time": "2025-01-08T01:49:34.654764Z"
    }
   },
   "source": [
    "a1.size, a2.size, a3.size"
   ],
   "outputs": [
    {
     "data": {
      "text/plain": [
       "(3, 6, 18)"
      ]
     },
     "execution_count": 8,
     "metadata": {},
     "output_type": "execute_result"
    }
   ],
   "execution_count": 8
  },
  {
   "cell_type": "code",
   "id": "f10e6d05073a3745",
   "metadata": {
    "ExecuteTime": {
     "end_time": "2025-01-08T01:49:34.745359Z",
     "start_time": "2025-01-08T01:49:34.731089Z"
    }
   },
   "source": [
    "type(a1), type(a2), type(a3)"
   ],
   "outputs": [
    {
     "data": {
      "text/plain": [
       "(numpy.ndarray, numpy.ndarray, numpy.ndarray)"
      ]
     },
     "execution_count": 9,
     "metadata": {},
     "output_type": "execute_result"
    }
   ],
   "execution_count": 9
  },
  {
   "cell_type": "code",
   "id": "ca57fd75b5326eec",
   "metadata": {
    "ExecuteTime": {
     "end_time": "2025-01-08T01:49:34.784074Z",
     "start_time": "2025-01-08T01:49:34.779149Z"
    }
   },
   "source": [
    "# Create a dataframe from a numpy array\n",
    "import pandas as pd\n",
    "df = pd.DataFrame(a2)\n",
    "df"
   ],
   "outputs": [
    {
     "data": {
      "text/plain": [
       "   0  1  2\n",
       "0  1  2  3\n",
       "1  4  5  6"
      ],
      "text/html": [
       "<div>\n",
       "<style scoped>\n",
       "    .dataframe tbody tr th:only-of-type {\n",
       "        vertical-align: middle;\n",
       "    }\n",
       "\n",
       "    .dataframe tbody tr th {\n",
       "        vertical-align: top;\n",
       "    }\n",
       "\n",
       "    .dataframe thead th {\n",
       "        text-align: right;\n",
       "    }\n",
       "</style>\n",
       "<table border=\"1\" class=\"dataframe\">\n",
       "  <thead>\n",
       "    <tr style=\"text-align: right;\">\n",
       "      <th></th>\n",
       "      <th>0</th>\n",
       "      <th>1</th>\n",
       "      <th>2</th>\n",
       "    </tr>\n",
       "  </thead>\n",
       "  <tbody>\n",
       "    <tr>\n",
       "      <th>0</th>\n",
       "      <td>1</td>\n",
       "      <td>2</td>\n",
       "      <td>3</td>\n",
       "    </tr>\n",
       "    <tr>\n",
       "      <th>1</th>\n",
       "      <td>4</td>\n",
       "      <td>5</td>\n",
       "      <td>6</td>\n",
       "    </tr>\n",
       "  </tbody>\n",
       "</table>\n",
       "</div>"
      ]
     },
     "execution_count": 10,
     "metadata": {},
     "output_type": "execute_result"
    }
   ],
   "execution_count": 10
  },
  {
   "cell_type": "markdown",
   "id": "dddc3c9305d21339",
   "metadata": {},
   "source": [
    "# 2. Creating array"
   ]
  },
  {
   "cell_type": "code",
   "id": "1e0c6a6faba3bb00",
   "metadata": {
    "ExecuteTime": {
     "end_time": "2025-01-08T01:49:34.832287Z",
     "start_time": "2025-01-08T01:49:34.829670Z"
    }
   },
   "source": [
    "sample_array = np.array([1, 2, 3])"
   ],
   "outputs": [],
   "execution_count": 11
  },
  {
   "cell_type": "code",
   "id": "d372c3924191807a",
   "metadata": {
    "ExecuteTime": {
     "end_time": "2025-01-08T01:49:35.030151Z",
     "start_time": "2025-01-08T01:49:34.988273Z"
    }
   },
   "source": [
    "ones = np.ones((3, 2))\n",
    "ones"
   ],
   "outputs": [
    {
     "data": {
      "text/plain": [
       "array([[1., 1.],\n",
       "       [1., 1.],\n",
       "       [1., 1.]])"
      ]
     },
     "execution_count": 12,
     "metadata": {},
     "output_type": "execute_result"
    }
   ],
   "execution_count": 12
  },
  {
   "cell_type": "code",
   "id": "cd599ff920fc0baf",
   "metadata": {
    "ExecuteTime": {
     "end_time": "2025-01-08T01:49:35.078911Z",
     "start_time": "2025-01-08T01:49:35.073319Z"
    }
   },
   "source": [
    "zeros = np.zeros((3, 2))\n",
    "zeros"
   ],
   "outputs": [
    {
     "data": {
      "text/plain": [
       "array([[0., 0.],\n",
       "       [0., 0.],\n",
       "       [0., 0.]])"
      ]
     },
     "execution_count": 13,
     "metadata": {},
     "output_type": "execute_result"
    }
   ],
   "execution_count": 13
  },
  {
   "cell_type": "code",
   "id": "8c2e2741ea389f9c",
   "metadata": {
    "ExecuteTime": {
     "end_time": "2025-01-08T01:49:35.182294Z",
     "start_time": "2025-01-08T01:49:35.174351Z"
    }
   },
   "source": [
    "range_array = np.arange(0, 10, 2)\n",
    "range_array"
   ],
   "outputs": [
    {
     "data": {
      "text/plain": [
       "array([0, 2, 4, 6, 8])"
      ]
     },
     "execution_count": 14,
     "metadata": {},
     "output_type": "execute_result"
    }
   ],
   "execution_count": 14
  },
  {
   "cell_type": "code",
   "id": "fbf6216bd0980a8b",
   "metadata": {
    "ExecuteTime": {
     "end_time": "2025-01-08T01:49:35.422647Z",
     "start_time": "2025-01-08T01:49:35.401675Z"
    }
   },
   "source": [
    "random_array = np.random.randint(0,10,size=(3,5))\n",
    "random_array"
   ],
   "outputs": [
    {
     "data": {
      "text/plain": [
       "array([[7, 8, 1, 6, 1],\n",
       "       [3, 4, 2, 1, 8],\n",
       "       [6, 5, 8, 4, 0]])"
      ]
     },
     "execution_count": 15,
     "metadata": {},
     "output_type": "execute_result"
    }
   ],
   "execution_count": 15
  },
  {
   "cell_type": "code",
   "id": "2d27b259dc9e1d51",
   "metadata": {
    "ExecuteTime": {
     "end_time": "2025-01-08T02:04:46.074515Z",
     "start_time": "2025-01-08T02:04:46.058676Z"
    }
   },
   "source": [
    "random_array_2 = np.random.random((3,5,2))\n",
    "random_array_2"
   ],
   "outputs": [
    {
     "data": {
      "text/plain": [
       "array([[[0.9490539 , 0.80813704],\n",
       "        [0.35525889, 0.96038493],\n",
       "        [0.64635477, 0.4245883 ],\n",
       "        [0.57559669, 0.00723876],\n",
       "        [0.1580174 , 0.21717921]],\n",
       "\n",
       "       [[0.631525  , 0.55913429],\n",
       "        [0.71082929, 0.25226749],\n",
       "        [0.11045929, 0.67662101],\n",
       "        [0.94419049, 0.8651948 ],\n",
       "        [0.80545283, 0.17733967]],\n",
       "\n",
       "       [[0.52245723, 0.32372627],\n",
       "        [0.56341734, 0.78393509],\n",
       "        [0.28125111, 0.27277567],\n",
       "        [0.39506926, 0.32506942],\n",
       "        [0.88209295, 0.86002418]]])"
      ]
     },
     "execution_count": 18,
     "metadata": {},
     "output_type": "execute_result"
    }
   ],
   "execution_count": 18
  },
  {
   "cell_type": "code",
   "id": "cf7203352be944e5",
   "metadata": {
    "ExecuteTime": {
     "end_time": "2025-01-08T02:04:56.533707Z",
     "start_time": "2025-01-08T02:04:56.523458Z"
    }
   },
   "source": [
    "random_array_3 = np.random.rand(3,5,2)\n",
    "random_array_3"
   ],
   "outputs": [
    {
     "data": {
      "text/plain": [
       "array([[[0.06119521, 0.84819401],\n",
       "        [0.50391805, 0.39898256],\n",
       "        [0.1009878 , 0.86929388],\n",
       "        [0.95745701, 0.34775933],\n",
       "        [0.4444169 , 0.92513278]],\n",
       "\n",
       "       [[0.81266222, 0.60605908],\n",
       "        [0.3408399 , 0.16621648],\n",
       "        [0.59856952, 0.41958769],\n",
       "        [0.35743764, 0.87675302],\n",
       "        [0.28583133, 0.88179429]],\n",
       "\n",
       "       [[0.14547784, 0.57754152],\n",
       "        [0.64802764, 0.87381661],\n",
       "        [0.61197006, 0.21493036],\n",
       "        [0.29307945, 0.71521096],\n",
       "        [0.23779558, 0.14288915]]])"
      ]
     },
     "execution_count": 19,
     "metadata": {},
     "output_type": "execute_result"
    }
   ],
   "execution_count": 19
  },
  {
   "metadata": {
    "ExecuteTime": {
     "end_time": "2025-01-08T02:34:18.690476Z",
     "start_time": "2025-01-08T02:34:18.680599Z"
    }
   },
   "cell_type": "code",
   "source": [
    "random_array_4 = np.random.randint(10, size=(3,5))\n",
    "random_array_4"
   ],
   "id": "44ead724964734aa",
   "outputs": [
    {
     "data": {
      "text/plain": [
       "array([[5, 5, 1, 4, 6],\n",
       "       [1, 7, 1, 3, 2],\n",
       "       [7, 8, 9, 4, 4]])"
      ]
     },
     "execution_count": 20,
     "metadata": {},
     "output_type": "execute_result"
    }
   ],
   "execution_count": 20
  },
  {
   "metadata": {},
   "cell_type": "markdown",
   "source": "## 3 viewing array and matrices",
   "id": "5790ab1590bb6b7"
  },
  {
   "metadata": {
    "ExecuteTime": {
     "end_time": "2025-01-08T04:24:08.424720Z",
     "start_time": "2025-01-08T04:24:08.386546Z"
    }
   },
   "cell_type": "code",
   "source": "np.unique(random_array_4)",
   "id": "efa78f600386c6c0",
   "outputs": [
    {
     "data": {
      "text/plain": [
       "array([1, 2, 3, 4, 5, 6, 7, 8, 9])"
      ]
     },
     "execution_count": 21,
     "metadata": {},
     "output_type": "execute_result"
    }
   ],
   "execution_count": 21
  },
  {
   "metadata": {
    "ExecuteTime": {
     "end_time": "2025-01-08T04:25:12.904483Z",
     "start_time": "2025-01-08T04:25:12.898123Z"
    }
   },
   "cell_type": "code",
   "source": "random_array_3[0]",
   "id": "a1f5e4f5a892224a",
   "outputs": [
    {
     "data": {
      "text/plain": [
       "array([[0.06119521, 0.84819401],\n",
       "       [0.50391805, 0.39898256],\n",
       "       [0.1009878 , 0.86929388],\n",
       "       [0.95745701, 0.34775933],\n",
       "       [0.4444169 , 0.92513278]])"
      ]
     },
     "execution_count": 24,
     "metadata": {},
     "output_type": "execute_result"
    }
   ],
   "execution_count": 24
  },
  {
   "metadata": {},
   "cell_type": "code",
   "outputs": [],
   "execution_count": null,
   "source": "",
   "id": "b6241f40c426e1d9"
  }
 ],
 "metadata": {
  "kernelspec": {
   "display_name": "Python 3 (ipykernel)",
   "language": "python",
   "name": "python3"
  },
  "language_info": {
   "codemirror_mode": {
    "name": "ipython",
    "version": 3
   },
   "file_extension": ".py",
   "mimetype": "text/x-python",
   "name": "python",
   "nbconvert_exporter": "python",
   "pygments_lexer": "ipython3",
   "version": "3.11.0"
  }
 },
 "nbformat": 5,
 "nbformat_minor": 9
}
